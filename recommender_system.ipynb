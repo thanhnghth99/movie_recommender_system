{
 "cells": [
  {
   "cell_type": "markdown",
   "metadata": {},
   "source": [
    "# Movies Recommender System"
   ]
  },
  {
   "cell_type": "markdown",
   "metadata": {},
   "source": [
    "This is the second part of my Springboard Capstone Project on Movie Data Analysis and Recommendation Systems. In first notebook, the story of film was narrated by performing an extensive exploratory data analysis on Movies Metadata collected from TMDB. Two extremely minimalist predictive models were alse built to predict movie revenue and movie success and visualise which features influence the output (revenue and success respectively).\n",
    "\n",
    "In this notebook, a few recommendation algorithms (content based, popularity based and collaborative filtering) will be implemented and built an ensemble of these models to come up with final recommendation system. There are two MovieLens datasets.\n",
    "\n",
    "* **The Full Dataset:** Consists of 33,000,000 ratings and 2,000,000 tag applications applied to 86,000 movies by 330,975 users. Includes tag genome data with 14 million relevance scores across 1,100 tags.\n",
    "\n",
    "* **The Small Dataset:** Comprises of 100,000 ratings and 3,600 tag applications applied to 9,000 movies by 600 users.\n",
    "\n",
    "Simple Recommender will be built by using movies from the *Full Dataset* whereas all personalised recommender systems will be made use of the *Small Dataset* (due to the computing power is very limited)."
   ]
  },
  {
   "cell_type": "code",
   "execution_count": 1,
   "metadata": {},
   "outputs": [],
   "source": [
    "from ast import literal_eval\n",
    "import warnings\n",
    "import numpy as np\n",
    "import pandas as pd\n",
    "from nltk.stem.snowball import SnowballStemmer\n",
    "from sklearn.feature_extraction.text import TfidfVectorizer, CountVectorizer\n",
    "from sklearn.metrics.pairwise import linear_kernel, cosine_similarity\n",
    "from surprise import Reader, Dataset, SVD\n",
    "from surprise.model_selection import cross_validate\n",
    "\n"
   ]
  },
  {
   "cell_type": "code",
   "execution_count": 2,
   "metadata": {},
   "outputs": [],
   "source": [
    "warnings.simplefilter('ignore')"
   ]
  },
  {
   "cell_type": "markdown",
   "metadata": {},
   "source": [
    "## Simple Recommender\n",
    "\n",
    "The Simple Recommender offers generalized recommendations to every user based on movie popularity and (sometimes) genre. The basic idea behind this recommender is that movies that are more popular and more critically acclaimed will have a higher probability of being liked by the average audience. This model does not give personalized recommendations based on the user. \n",
    "\n",
    "The implementation of this model is extremely trivial. All have to do is sort movies based on ratings and popularity and display the top movies of the list. As an added step, pass in a genre argument to get the top movies of a particular genre. "
   ]
  },
  {
   "cell_type": "code",
   "execution_count": 3,
   "metadata": {},
   "outputs": [
    {
     "data": {
      "text/html": [
       "<div>\n",
       "<style scoped>\n",
       "    .dataframe tbody tr th:only-of-type {\n",
       "        vertical-align: middle;\n",
       "    }\n",
       "\n",
       "    .dataframe tbody tr th {\n",
       "        vertical-align: top;\n",
       "    }\n",
       "\n",
       "    .dataframe thead th {\n",
       "        text-align: right;\n",
       "    }\n",
       "</style>\n",
       "<table border=\"1\" class=\"dataframe\">\n",
       "  <thead>\n",
       "    <tr style=\"text-align: right;\">\n",
       "      <th></th>\n",
       "      <th>adult</th>\n",
       "      <th>backdrop_path</th>\n",
       "      <th>belongs_to_collection</th>\n",
       "      <th>budget</th>\n",
       "      <th>genres</th>\n",
       "      <th>homepage</th>\n",
       "      <th>id</th>\n",
       "      <th>imdb_id</th>\n",
       "      <th>original_language</th>\n",
       "      <th>original_title</th>\n",
       "      <th>...</th>\n",
       "      <th>release_date</th>\n",
       "      <th>revenue</th>\n",
       "      <th>runtime</th>\n",
       "      <th>spoken_languages</th>\n",
       "      <th>status</th>\n",
       "      <th>tagline</th>\n",
       "      <th>title</th>\n",
       "      <th>video</th>\n",
       "      <th>vote_average</th>\n",
       "      <th>vote_count</th>\n",
       "    </tr>\n",
       "  </thead>\n",
       "  <tbody>\n",
       "    <tr>\n",
       "      <th>0</th>\n",
       "      <td>False</td>\n",
       "      <td>/lxD5ak7BOoinRNehOCA85CQ8ubr.jpg</td>\n",
       "      <td>{'id': 10194, 'name': 'Toy Story Collection', ...</td>\n",
       "      <td>30000000</td>\n",
       "      <td>[{'id': 16, 'name': 'Animation'}, {'id': 12, '...</td>\n",
       "      <td>http://toystory.disney.com/toy-story</td>\n",
       "      <td>862</td>\n",
       "      <td>tt0114709</td>\n",
       "      <td>en</td>\n",
       "      <td>Toy Story</td>\n",
       "      <td>...</td>\n",
       "      <td>1995-10-30</td>\n",
       "      <td>394400000</td>\n",
       "      <td>81</td>\n",
       "      <td>[{'english_name': 'English', 'iso_639_1': 'en'...</td>\n",
       "      <td>Released</td>\n",
       "      <td>Hang on for the comedy that goes to infinity a...</td>\n",
       "      <td>Toy Story</td>\n",
       "      <td>False</td>\n",
       "      <td>7.971</td>\n",
       "      <td>17351</td>\n",
       "    </tr>\n",
       "    <tr>\n",
       "      <th>1</th>\n",
       "      <td>False</td>\n",
       "      <td>/pYw10zrqfkdm3yD9JTO6vEGQhKy.jpg</td>\n",
       "      <td>{'id': 495527, 'name': 'Jumanji Collection', '...</td>\n",
       "      <td>65000000</td>\n",
       "      <td>[{'id': 12, 'name': 'Adventure'}, {'id': 14, '...</td>\n",
       "      <td>http://www.sonypictures.com/movies/jumanji/</td>\n",
       "      <td>8844</td>\n",
       "      <td>tt0113497</td>\n",
       "      <td>en</td>\n",
       "      <td>Jumanji</td>\n",
       "      <td>...</td>\n",
       "      <td>1995-12-15</td>\n",
       "      <td>262821940</td>\n",
       "      <td>104</td>\n",
       "      <td>[{'english_name': 'English', 'iso_639_1': 'en'...</td>\n",
       "      <td>Released</td>\n",
       "      <td>Roll the dice and unleash the excitement!</td>\n",
       "      <td>Jumanji</td>\n",
       "      <td>False</td>\n",
       "      <td>7.239</td>\n",
       "      <td>9937</td>\n",
       "    </tr>\n",
       "    <tr>\n",
       "      <th>2</th>\n",
       "      <td>False</td>\n",
       "      <td>/1J4Z7VhdAgtdd97nCxY7dcBpjGT.jpg</td>\n",
       "      <td>{'id': 119050, 'name': 'Grumpy Old Men Collect...</td>\n",
       "      <td>25000000</td>\n",
       "      <td>[{'id': 10749, 'name': 'Romance'}, {'id': 35, ...</td>\n",
       "      <td>NaN</td>\n",
       "      <td>15602</td>\n",
       "      <td>tt0113228</td>\n",
       "      <td>en</td>\n",
       "      <td>Grumpier Old Men</td>\n",
       "      <td>...</td>\n",
       "      <td>1995-12-22</td>\n",
       "      <td>71500000</td>\n",
       "      <td>101</td>\n",
       "      <td>[{'english_name': 'English', 'iso_639_1': 'en'...</td>\n",
       "      <td>Released</td>\n",
       "      <td>Still Yelling. Still Fighting. Still Ready for...</td>\n",
       "      <td>Grumpier Old Men</td>\n",
       "      <td>False</td>\n",
       "      <td>6.487</td>\n",
       "      <td>353</td>\n",
       "    </tr>\n",
       "    <tr>\n",
       "      <th>3</th>\n",
       "      <td>False</td>\n",
       "      <td>/jZjoEKXMTDoZAGdkjhAdJaKtXSN.jpg</td>\n",
       "      <td>NaN</td>\n",
       "      <td>16000000</td>\n",
       "      <td>[{'id': 35, 'name': 'Comedy'}, {'id': 18, 'nam...</td>\n",
       "      <td>NaN</td>\n",
       "      <td>31357</td>\n",
       "      <td>tt0114885</td>\n",
       "      <td>en</td>\n",
       "      <td>Waiting to Exhale</td>\n",
       "      <td>...</td>\n",
       "      <td>1995-12-22</td>\n",
       "      <td>81452156</td>\n",
       "      <td>127</td>\n",
       "      <td>[{'english_name': 'English', 'iso_639_1': 'en'...</td>\n",
       "      <td>Released</td>\n",
       "      <td>Friends are the people who let you be yourself...</td>\n",
       "      <td>Waiting to Exhale</td>\n",
       "      <td>False</td>\n",
       "      <td>6.200</td>\n",
       "      <td>143</td>\n",
       "    </tr>\n",
       "    <tr>\n",
       "      <th>4</th>\n",
       "      <td>False</td>\n",
       "      <td>/lEsjVrGU21BeJjF5AF9EWsihDpw.jpg</td>\n",
       "      <td>{'id': 96871, 'name': 'Father of the Bride (St...</td>\n",
       "      <td>0</td>\n",
       "      <td>[{'id': 35, 'name': 'Comedy'}, {'id': 10751, '...</td>\n",
       "      <td>NaN</td>\n",
       "      <td>11862</td>\n",
       "      <td>tt0113041</td>\n",
       "      <td>en</td>\n",
       "      <td>Father of the Bride Part II</td>\n",
       "      <td>...</td>\n",
       "      <td>1995-12-08</td>\n",
       "      <td>76594107</td>\n",
       "      <td>106</td>\n",
       "      <td>[{'english_name': 'English', 'iso_639_1': 'en'...</td>\n",
       "      <td>Released</td>\n",
       "      <td>Just when his world is back to normal... he's ...</td>\n",
       "      <td>Father of the Bride Part II</td>\n",
       "      <td>False</td>\n",
       "      <td>6.234</td>\n",
       "      <td>672</td>\n",
       "    </tr>\n",
       "  </tbody>\n",
       "</table>\n",
       "<p>5 rows × 25 columns</p>\n",
       "</div>"
      ],
      "text/plain": [
       "   adult                     backdrop_path  \\\n",
       "0  False  /lxD5ak7BOoinRNehOCA85CQ8ubr.jpg   \n",
       "1  False  /pYw10zrqfkdm3yD9JTO6vEGQhKy.jpg   \n",
       "2  False  /1J4Z7VhdAgtdd97nCxY7dcBpjGT.jpg   \n",
       "3  False  /jZjoEKXMTDoZAGdkjhAdJaKtXSN.jpg   \n",
       "4  False  /lEsjVrGU21BeJjF5AF9EWsihDpw.jpg   \n",
       "\n",
       "                               belongs_to_collection    budget  \\\n",
       "0  {'id': 10194, 'name': 'Toy Story Collection', ...  30000000   \n",
       "1  {'id': 495527, 'name': 'Jumanji Collection', '...  65000000   \n",
       "2  {'id': 119050, 'name': 'Grumpy Old Men Collect...  25000000   \n",
       "3                                                NaN  16000000   \n",
       "4  {'id': 96871, 'name': 'Father of the Bride (St...         0   \n",
       "\n",
       "                                              genres  \\\n",
       "0  [{'id': 16, 'name': 'Animation'}, {'id': 12, '...   \n",
       "1  [{'id': 12, 'name': 'Adventure'}, {'id': 14, '...   \n",
       "2  [{'id': 10749, 'name': 'Romance'}, {'id': 35, ...   \n",
       "3  [{'id': 35, 'name': 'Comedy'}, {'id': 18, 'nam...   \n",
       "4  [{'id': 35, 'name': 'Comedy'}, {'id': 10751, '...   \n",
       "\n",
       "                                      homepage     id    imdb_id  \\\n",
       "0         http://toystory.disney.com/toy-story    862  tt0114709   \n",
       "1  http://www.sonypictures.com/movies/jumanji/   8844  tt0113497   \n",
       "2                                          NaN  15602  tt0113228   \n",
       "3                                          NaN  31357  tt0114885   \n",
       "4                                          NaN  11862  tt0113041   \n",
       "\n",
       "  original_language               original_title  ... release_date    revenue  \\\n",
       "0                en                    Toy Story  ...   1995-10-30  394400000   \n",
       "1                en                      Jumanji  ...   1995-12-15  262821940   \n",
       "2                en             Grumpier Old Men  ...   1995-12-22   71500000   \n",
       "3                en            Waiting to Exhale  ...   1995-12-22   81452156   \n",
       "4                en  Father of the Bride Part II  ...   1995-12-08   76594107   \n",
       "\n",
       "  runtime                                   spoken_languages    status  \\\n",
       "0      81  [{'english_name': 'English', 'iso_639_1': 'en'...  Released   \n",
       "1     104  [{'english_name': 'English', 'iso_639_1': 'en'...  Released   \n",
       "2     101  [{'english_name': 'English', 'iso_639_1': 'en'...  Released   \n",
       "3     127  [{'english_name': 'English', 'iso_639_1': 'en'...  Released   \n",
       "4     106  [{'english_name': 'English', 'iso_639_1': 'en'...  Released   \n",
       "\n",
       "                                             tagline  \\\n",
       "0  Hang on for the comedy that goes to infinity a...   \n",
       "1          Roll the dice and unleash the excitement!   \n",
       "2  Still Yelling. Still Fighting. Still Ready for...   \n",
       "3  Friends are the people who let you be yourself...   \n",
       "4  Just when his world is back to normal... he's ...   \n",
       "\n",
       "                         title  video vote_average vote_count  \n",
       "0                    Toy Story  False        7.971      17351  \n",
       "1                      Jumanji  False        7.239       9937  \n",
       "2             Grumpier Old Men  False        6.487        353  \n",
       "3            Waiting to Exhale  False        6.200        143  \n",
       "4  Father of the Bride Part II  False        6.234        672  \n",
       "\n",
       "[5 rows x 25 columns]"
      ]
     },
     "execution_count": 3,
     "metadata": {},
     "output_type": "execute_result"
    }
   ],
   "source": [
    "movies_df = pd.read_csv('data/movies_metadata.csv')\n",
    "movies_df.head()"
   ]
  },
  {
   "cell_type": "code",
   "execution_count": 4,
   "metadata": {},
   "outputs": [],
   "source": [
    "movies_df['genres'] = movies_df['genres'].apply(literal_eval).apply(lambda x: [i['name'] for i in x] if isinstance(x, list) else [])"
   ]
  },
  {
   "cell_type": "markdown",
   "metadata": {},
   "source": [
    "The TMDB Ratings is used to come up with **Top Movies Chart.** and IMDB's ***weighted rating*** formula is also used to construct chart. Mathematically, it is represented as follows:\n",
    "\n",
    "Weighted Rating (WR) = $(\\frac{v}{v + m} . R) + (\\frac{m}{v + m} . C)$\n",
    "\n",
    "Where,\n",
    "* ***v*** is the number of votes for the movie\n",
    "* ***m*** is the minimum votes required to be listed in the chart\n",
    "* ***R*** is the average rating of the movie\n",
    "* ***C*** is the mean vote across the whole report\n",
    "\n",
    "The next step is to determine an appropriate value for ***m***, the minimum votes required to be listed in the chart. Using **95th percentile** as cutoff. In other words, for a movie to feature in the charts, it must have more votes than at least 95% of the movies in the list.\n",
    "\n",
    "An overall **Top 250 Chart** is built and defined a function to build charts for a particular genre. Let's begin!"
   ]
  },
  {
   "cell_type": "code",
   "execution_count": 5,
   "metadata": {},
   "outputs": [
    {
     "data": {
      "text/plain": [
       "5.425442754971849"
      ]
     },
     "execution_count": 5,
     "metadata": {},
     "output_type": "execute_result"
    }
   ],
   "source": [
    "vote_averages = movies_df[movies_df['vote_average'].notnull()]['vote_average'].astype(int)\n",
    "C = vote_averages.mean()\n",
    "C"
   ]
  },
  {
   "cell_type": "code",
   "execution_count": 6,
   "metadata": {},
   "outputs": [
    {
     "data": {
      "text/plain": [
       "888.0"
      ]
     },
     "execution_count": 6,
     "metadata": {},
     "output_type": "execute_result"
    }
   ],
   "source": [
    "vote_counts = movies_df[movies_df['vote_count'].notnull()]['vote_count'].astype(int)\n",
    "m = vote_counts.quantile(0.95)\n",
    "m"
   ]
  },
  {
   "cell_type": "code",
   "execution_count": 7,
   "metadata": {},
   "outputs": [],
   "source": [
    "movies_df['year'] = pd.to_datetime(movies_df['release_date'], errors='coerce').apply(lambda x: str(x).split('-')[0] if x != np.nan else np.nan)"
   ]
  },
  {
   "cell_type": "code",
   "execution_count": 8,
   "metadata": {},
   "outputs": [
    {
     "name": "stdout",
     "output_type": "stream",
     "text": [
      "<class 'pandas.core.frame.DataFrame'>\n",
      "Int64Index: 4274 entries, 0 to 85330\n",
      "Data columns (total 6 columns):\n",
      " #   Column        Non-Null Count  Dtype  \n",
      "---  ------        --------------  -----  \n",
      " 0   title         4274 non-null   object \n",
      " 1   genres        4274 non-null   object \n",
      " 2   popularity    4274 non-null   float64\n",
      " 3   vote_average  4274 non-null   int32  \n",
      " 4   vote_count    4274 non-null   int32  \n",
      " 5   year          4274 non-null   object \n",
      "dtypes: float64(1), int32(2), object(3)\n",
      "memory usage: 200.3+ KB\n"
     ]
    }
   ],
   "source": [
    "qualified_df = movies_df[(movies_df['vote_count'].notnull()) & (movies_df['vote_count'] >= m) & (movies_df['vote_average'].notnull())][['title', 'genres', 'popularity', 'vote_average',  'vote_count', 'year']]\n",
    "qualified_df['vote_count'] = qualified_df['vote_count'].astype('int')\n",
    "qualified_df['vote_average'] = qualified_df['vote_average'].astype('int')\n",
    "qualified_df.info()"
   ]
  },
  {
   "cell_type": "markdown",
   "metadata": {},
   "source": [
    "Therefore, to qualify to be considered for the chart, a movie has to have at least **888 votes** on TMDB. It also can be seen that the average rating for a movie on TMDB is **5.4254** on a scale of 10. **4274** Movies qualify to be on this chart."
   ]
  },
  {
   "cell_type": "code",
   "execution_count": 9,
   "metadata": {},
   "outputs": [],
   "source": [
    "def weighted_rating(df, m, C):\n",
    "    v = df['vote_count']\n",
    "    R = df['vote_average']\n",
    "\n",
    "    WR = (v/(v + m) * R) + (m/(v + m) * C)\n",
    "    return WR"
   ]
  },
  {
   "cell_type": "code",
   "execution_count": 10,
   "metadata": {},
   "outputs": [],
   "source": [
    "qualified_df['weighted_rating'] = qualified_df.apply(weighted_rating, args=(m, C), axis=1)"
   ]
  },
  {
   "cell_type": "code",
   "execution_count": 11,
   "metadata": {},
   "outputs": [],
   "source": [
    "top_250 = qualified_df.sort_values('weighted_rating', ascending=False).head(250)"
   ]
  },
  {
   "cell_type": "markdown",
   "metadata": {},
   "source": [
    "### Top Movies"
   ]
  },
  {
   "cell_type": "code",
   "execution_count": 12,
   "metadata": {},
   "outputs": [
    {
     "data": {
      "text/html": [
       "<div>\n",
       "<style scoped>\n",
       "    .dataframe tbody tr th:only-of-type {\n",
       "        vertical-align: middle;\n",
       "    }\n",
       "\n",
       "    .dataframe tbody tr th {\n",
       "        vertical-align: top;\n",
       "    }\n",
       "\n",
       "    .dataframe thead th {\n",
       "        text-align: right;\n",
       "    }\n",
       "</style>\n",
       "<table border=\"1\" class=\"dataframe\">\n",
       "  <thead>\n",
       "    <tr style=\"text-align: right;\">\n",
       "      <th></th>\n",
       "      <th>title</th>\n",
       "      <th>genres</th>\n",
       "      <th>popularity</th>\n",
       "      <th>vote_average</th>\n",
       "      <th>vote_count</th>\n",
       "      <th>year</th>\n",
       "      <th>weighted_rating</th>\n",
       "    </tr>\n",
       "  </thead>\n",
       "  <tbody>\n",
       "    <tr>\n",
       "      <th>14848</th>\n",
       "      <td>Inception</td>\n",
       "      <td>[Action, Science Fiction, Adventure]</td>\n",
       "      <td>118.271</td>\n",
       "      <td>8</td>\n",
       "      <td>34845</td>\n",
       "      <td>2010</td>\n",
       "      <td>7.936020</td>\n",
       "    </tr>\n",
       "    <tr>\n",
       "      <th>20995</th>\n",
       "      <td>Interstellar</td>\n",
       "      <td>[Adventure, Drama, Science Fiction]</td>\n",
       "      <td>158.041</td>\n",
       "      <td>8</td>\n",
       "      <td>33043</td>\n",
       "      <td>2014</td>\n",
       "      <td>7.932622</td>\n",
       "    </tr>\n",
       "    <tr>\n",
       "      <th>12167</th>\n",
       "      <td>The Dark Knight</td>\n",
       "      <td>[Drama, Action, Crime, Thriller]</td>\n",
       "      <td>94.471</td>\n",
       "      <td>8</td>\n",
       "      <td>31010</td>\n",
       "      <td>2008</td>\n",
       "      <td>7.928328</td>\n",
       "    </tr>\n",
       "    <tr>\n",
       "      <th>24844</th>\n",
       "      <td>Avengers: Infinity War</td>\n",
       "      <td>[Adventure, Action, Science Fiction]</td>\n",
       "      <td>211.354</td>\n",
       "      <td>8</td>\n",
       "      <td>28055</td>\n",
       "      <td>2018</td>\n",
       "      <td>7.921010</td>\n",
       "    </tr>\n",
       "    <tr>\n",
       "      <th>2848</th>\n",
       "      <td>Fight Club</td>\n",
       "      <td>[Drama]</td>\n",
       "      <td>73.879</td>\n",
       "      <td>8</td>\n",
       "      <td>27610</td>\n",
       "      <td>1999</td>\n",
       "      <td>7.919777</td>\n",
       "    </tr>\n",
       "    <tr>\n",
       "      <th>292</th>\n",
       "      <td>Pulp Fiction</td>\n",
       "      <td>[Thriller, Crime]</td>\n",
       "      <td>78.343</td>\n",
       "      <td>8</td>\n",
       "      <td>26219</td>\n",
       "      <td>1994</td>\n",
       "      <td>7.915660</td>\n",
       "    </tr>\n",
       "    <tr>\n",
       "      <th>351</th>\n",
       "      <td>Forrest Gump</td>\n",
       "      <td>[Comedy, Drama, Romance]</td>\n",
       "      <td>82.404</td>\n",
       "      <td>8</td>\n",
       "      <td>25752</td>\n",
       "      <td>1994</td>\n",
       "      <td>7.914181</td>\n",
       "    </tr>\n",
       "    <tr>\n",
       "      <th>314</th>\n",
       "      <td>The Shawshank Redemption</td>\n",
       "      <td>[Drama, Crime]</td>\n",
       "      <td>259.230</td>\n",
       "      <td>8</td>\n",
       "      <td>25045</td>\n",
       "      <td>1994</td>\n",
       "      <td>7.911842</td>\n",
       "    </tr>\n",
       "    <tr>\n",
       "      <th>18866</th>\n",
       "      <td>Django Unchained</td>\n",
       "      <td>[Drama, Western]</td>\n",
       "      <td>56.438</td>\n",
       "      <td>8</td>\n",
       "      <td>24935</td>\n",
       "      <td>2012</td>\n",
       "      <td>7.911466</td>\n",
       "    </tr>\n",
       "    <tr>\n",
       "      <th>24845</th>\n",
       "      <td>Avengers: Endgame</td>\n",
       "      <td>[Adventure, Science Fiction, Action]</td>\n",
       "      <td>134.347</td>\n",
       "      <td>8</td>\n",
       "      <td>24152</td>\n",
       "      <td>2019</td>\n",
       "      <td>7.908698</td>\n",
       "    </tr>\n",
       "    <tr>\n",
       "      <th>2463</th>\n",
       "      <td>The Matrix</td>\n",
       "      <td>[Action, Science Fiction]</td>\n",
       "      <td>84.441</td>\n",
       "      <td>8</td>\n",
       "      <td>24149</td>\n",
       "      <td>1999</td>\n",
       "      <td>7.908687</td>\n",
       "    </tr>\n",
       "    <tr>\n",
       "      <th>61336</th>\n",
       "      <td>Joker</td>\n",
       "      <td>[Crime, Thriller, Drama]</td>\n",
       "      <td>64.097</td>\n",
       "      <td>8</td>\n",
       "      <td>23731</td>\n",
       "      <td>2019</td>\n",
       "      <td>7.907136</td>\n",
       "    </tr>\n",
       "    <tr>\n",
       "      <th>4866</th>\n",
       "      <td>The Lord of the Rings: The Fellowship of the Ring</td>\n",
       "      <td>[Adventure, Fantasy, Action]</td>\n",
       "      <td>113.568</td>\n",
       "      <td>8</td>\n",
       "      <td>23613</td>\n",
       "      <td>2001</td>\n",
       "      <td>7.906689</td>\n",
       "    </tr>\n",
       "    <tr>\n",
       "      <th>7003</th>\n",
       "      <td>The Lord of the Rings: The Return of the King</td>\n",
       "      <td>[Adventure, Fantasy, Action]</td>\n",
       "      <td>107.280</td>\n",
       "      <td>8</td>\n",
       "      <td>22651</td>\n",
       "      <td>2003</td>\n",
       "      <td>7.902876</td>\n",
       "    </tr>\n",
       "    <tr>\n",
       "      <th>14259</th>\n",
       "      <td>Shutter Island</td>\n",
       "      <td>[Drama, Thriller, Mystery]</td>\n",
       "      <td>65.617</td>\n",
       "      <td>8</td>\n",
       "      <td>22597</td>\n",
       "      <td>2010</td>\n",
       "      <td>7.902652</td>\n",
       "    </tr>\n",
       "  </tbody>\n",
       "</table>\n",
       "</div>"
      ],
      "text/plain": [
       "                                                   title  \\\n",
       "14848                                          Inception   \n",
       "20995                                       Interstellar   \n",
       "12167                                    The Dark Knight   \n",
       "24844                             Avengers: Infinity War   \n",
       "2848                                          Fight Club   \n",
       "292                                         Pulp Fiction   \n",
       "351                                         Forrest Gump   \n",
       "314                             The Shawshank Redemption   \n",
       "18866                                   Django Unchained   \n",
       "24845                                  Avengers: Endgame   \n",
       "2463                                          The Matrix   \n",
       "61336                                              Joker   \n",
       "4866   The Lord of the Rings: The Fellowship of the Ring   \n",
       "7003       The Lord of the Rings: The Return of the King   \n",
       "14259                                     Shutter Island   \n",
       "\n",
       "                                     genres  popularity  vote_average  \\\n",
       "14848  [Action, Science Fiction, Adventure]     118.271             8   \n",
       "20995   [Adventure, Drama, Science Fiction]     158.041             8   \n",
       "12167      [Drama, Action, Crime, Thriller]      94.471             8   \n",
       "24844  [Adventure, Action, Science Fiction]     211.354             8   \n",
       "2848                                [Drama]      73.879             8   \n",
       "292                       [Thriller, Crime]      78.343             8   \n",
       "351                [Comedy, Drama, Romance]      82.404             8   \n",
       "314                          [Drama, Crime]     259.230             8   \n",
       "18866                      [Drama, Western]      56.438             8   \n",
       "24845  [Adventure, Science Fiction, Action]     134.347             8   \n",
       "2463              [Action, Science Fiction]      84.441             8   \n",
       "61336              [Crime, Thriller, Drama]      64.097             8   \n",
       "4866           [Adventure, Fantasy, Action]     113.568             8   \n",
       "7003           [Adventure, Fantasy, Action]     107.280             8   \n",
       "14259            [Drama, Thriller, Mystery]      65.617             8   \n",
       "\n",
       "       vote_count  year  weighted_rating  \n",
       "14848       34845  2010         7.936020  \n",
       "20995       33043  2014         7.932622  \n",
       "12167       31010  2008         7.928328  \n",
       "24844       28055  2018         7.921010  \n",
       "2848        27610  1999         7.919777  \n",
       "292         26219  1994         7.915660  \n",
       "351         25752  1994         7.914181  \n",
       "314         25045  1994         7.911842  \n",
       "18866       24935  2012         7.911466  \n",
       "24845       24152  2019         7.908698  \n",
       "2463        24149  1999         7.908687  \n",
       "61336       23731  2019         7.907136  \n",
       "4866        23613  2001         7.906689  \n",
       "7003        22651  2003         7.902876  \n",
       "14259       22597  2010         7.902652  "
      ]
     },
     "execution_count": 12,
     "metadata": {},
     "output_type": "execute_result"
    }
   ],
   "source": [
    "top_250.head(15)"
   ]
  },
  {
   "cell_type": "markdown",
   "metadata": {},
   "source": [
    "Three Christopher Nolan Films, **Inception**, **Interstellar** and **The Dark Knight** occur at the very top of the chart. The chart also indicates a strong bias of TMDB Users towards particular genres and directors.\n",
    "\n",
    "Now construct a function that builds charts for particular genres. For this, using relax default conditions to the **85th** percentile instead of 95."
   ]
  },
  {
   "cell_type": "code",
   "execution_count": 13,
   "metadata": {},
   "outputs": [],
   "source": [
    "stack_genres = movies_df.apply(lambda x: pd.Series(x['genres']), axis=1).stack().reset_index(level=1, drop=True)\n",
    "stack_genres.name = 'genre'"
   ]
  },
  {
   "cell_type": "code",
   "execution_count": 14,
   "metadata": {},
   "outputs": [],
   "source": [
    "genres_df = movies_df.drop('genres', axis=1).join(stack_genres)"
   ]
  },
  {
   "cell_type": "code",
   "execution_count": 15,
   "metadata": {},
   "outputs": [],
   "source": [
    "def build_chart(genre, percentile=0.85):\n",
    "    df = genres_df[genres_df['genre'] == genre]\n",
    "\n",
    "    vote_counts = df[df['vote_count'].notnull()]['vote_count'].astype('int')\n",
    "    vote_averages = df[df['vote_average'].notnull()]['vote_average'].astype('int')\n",
    "\n",
    "    C = vote_averages.mean()\n",
    "    m = vote_counts.quantile(percentile)\n",
    "    \n",
    "    qualified_df = df[(df['vote_count'].notnull()) & (df['vote_count'] >= m) & (df['vote_average'].notnull())][['title', 'popularity', 'vote_average',  'vote_count', 'year']]\n",
    "    qualified_df['vote_count'] = qualified_df['vote_count'].astype('int')\n",
    "    qualified_df['vote_average'] = qualified_df['vote_average'].astype('int')\n",
    "\n",
    "    qualified_df['weighted_rating'] = qualified_df.apply(weighted_rating, args=(m, C), axis=1)\n",
    "    \n",
    "    top_movies = qualified_df.sort_values('weighted_rating', ascending=False).head(250)\n",
    "\n",
    "    return top_movies"
   ]
  },
  {
   "cell_type": "markdown",
   "metadata": {},
   "source": [
    "Let see method in action by displaying the Top 15 Romance Movies (Romance almost didn't feature at all in the Generic Top Chart despite being one of the most popular movie genres)."
   ]
  },
  {
   "cell_type": "markdown",
   "metadata": {},
   "source": [
    "### Top Romance Movies"
   ]
  },
  {
   "cell_type": "code",
   "execution_count": 16,
   "metadata": {},
   "outputs": [
    {
     "data": {
      "text/html": [
       "<div>\n",
       "<style scoped>\n",
       "    .dataframe tbody tr th:only-of-type {\n",
       "        vertical-align: middle;\n",
       "    }\n",
       "\n",
       "    .dataframe tbody tr th {\n",
       "        vertical-align: top;\n",
       "    }\n",
       "\n",
       "    .dataframe thead th {\n",
       "        text-align: right;\n",
       "    }\n",
       "</style>\n",
       "<table border=\"1\" class=\"dataframe\">\n",
       "  <thead>\n",
       "    <tr style=\"text-align: right;\">\n",
       "      <th></th>\n",
       "      <th>title</th>\n",
       "      <th>popularity</th>\n",
       "      <th>vote_average</th>\n",
       "      <th>vote_count</th>\n",
       "      <th>year</th>\n",
       "      <th>weighted_rating</th>\n",
       "    </tr>\n",
       "  </thead>\n",
       "  <tbody>\n",
       "    <tr>\n",
       "      <th>351</th>\n",
       "      <td>Forrest Gump</td>\n",
       "      <td>82.404</td>\n",
       "      <td>8</td>\n",
       "      <td>25752</td>\n",
       "      <td>1994</td>\n",
       "      <td>7.980267</td>\n",
       "    </tr>\n",
       "    <tr>\n",
       "      <th>7211</th>\n",
       "      <td>Eternal Sunshine of the Spotless Mind</td>\n",
       "      <td>53.919</td>\n",
       "      <td>8</td>\n",
       "      <td>13900</td>\n",
       "      <td>2004</td>\n",
       "      <td>7.963695</td>\n",
       "    </tr>\n",
       "    <tr>\n",
       "      <th>44531</th>\n",
       "      <td>Call Me by Your Name</td>\n",
       "      <td>38.573</td>\n",
       "      <td>8</td>\n",
       "      <td>11458</td>\n",
       "      <td>2017</td>\n",
       "      <td>7.956099</td>\n",
       "    </tr>\n",
       "    <tr>\n",
       "      <th>42046</th>\n",
       "      <td>Your Name.</td>\n",
       "      <td>81.862</td>\n",
       "      <td>8</td>\n",
       "      <td>10543</td>\n",
       "      <td>2016</td>\n",
       "      <td>7.952364</td>\n",
       "    </tr>\n",
       "    <tr>\n",
       "      <th>10359</th>\n",
       "      <td>Pride &amp; Prejudice</td>\n",
       "      <td>53.092</td>\n",
       "      <td>8</td>\n",
       "      <td>7489</td>\n",
       "      <td>2005</td>\n",
       "      <td>7.933476</td>\n",
       "    </tr>\n",
       "    <tr>\n",
       "      <th>52232</th>\n",
       "      <td>Love, Simon</td>\n",
       "      <td>32.447</td>\n",
       "      <td>8</td>\n",
       "      <td>5784</td>\n",
       "      <td>2018</td>\n",
       "      <td>7.914562</td>\n",
       "    </tr>\n",
       "    <tr>\n",
       "      <th>877</th>\n",
       "      <td>Vertigo</td>\n",
       "      <td>27.338</td>\n",
       "      <td>8</td>\n",
       "      <td>5330</td>\n",
       "      <td>1958</td>\n",
       "      <td>7.907564</td>\n",
       "    </tr>\n",
       "    <tr>\n",
       "      <th>58360</th>\n",
       "      <td>Five Feet Apart</td>\n",
       "      <td>35.339</td>\n",
       "      <td>8</td>\n",
       "      <td>5304</td>\n",
       "      <td>2019</td>\n",
       "      <td>7.907129</td>\n",
       "    </tr>\n",
       "    <tr>\n",
       "      <th>886</th>\n",
       "      <td>Casablanca</td>\n",
       "      <td>26.816</td>\n",
       "      <td>8</td>\n",
       "      <td>5013</td>\n",
       "      <td>1943</td>\n",
       "      <td>7.901957</td>\n",
       "    </tr>\n",
       "    <tr>\n",
       "      <th>10136</th>\n",
       "      <td>Dilwale Dulhania Le Jayenge</td>\n",
       "      <td>36.331</td>\n",
       "      <td>8</td>\n",
       "      <td>4293</td>\n",
       "      <td>1995</td>\n",
       "      <td>7.886292</td>\n",
       "    </tr>\n",
       "    <tr>\n",
       "      <th>1137</th>\n",
       "      <td>Cinema Paradiso</td>\n",
       "      <td>27.184</td>\n",
       "      <td>8</td>\n",
       "      <td>4024</td>\n",
       "      <td>1988</td>\n",
       "      <td>7.879072</td>\n",
       "    </tr>\n",
       "    <tr>\n",
       "      <th>40080</th>\n",
       "      <td>The Handmaiden</td>\n",
       "      <td>57.451</td>\n",
       "      <td>8</td>\n",
       "      <td>3372</td>\n",
       "      <td>2016</td>\n",
       "      <td>7.857079</td>\n",
       "    </tr>\n",
       "    <tr>\n",
       "      <th>884</th>\n",
       "      <td>Some Like It Hot</td>\n",
       "      <td>26.345</td>\n",
       "      <td>8</td>\n",
       "      <td>3197</td>\n",
       "      <td>1959</td>\n",
       "      <td>7.849745</td>\n",
       "    </tr>\n",
       "    <tr>\n",
       "      <th>873</th>\n",
       "      <td>Singin' in the Rain</td>\n",
       "      <td>23.424</td>\n",
       "      <td>8</td>\n",
       "      <td>2896</td>\n",
       "      <td>1952</td>\n",
       "      <td>7.835198</td>\n",
       "    </tr>\n",
       "    <tr>\n",
       "      <th>2620</th>\n",
       "      <td>Barry Lyndon</td>\n",
       "      <td>20.173</td>\n",
       "      <td>8</td>\n",
       "      <td>2588</td>\n",
       "      <td>1975</td>\n",
       "      <td>7.817076</td>\n",
       "    </tr>\n",
       "  </tbody>\n",
       "</table>\n",
       "</div>"
      ],
      "text/plain": [
       "                                       title  popularity  vote_average  \\\n",
       "351                             Forrest Gump      82.404             8   \n",
       "7211   Eternal Sunshine of the Spotless Mind      53.919             8   \n",
       "44531                   Call Me by Your Name      38.573             8   \n",
       "42046                             Your Name.      81.862             8   \n",
       "10359                      Pride & Prejudice      53.092             8   \n",
       "52232                            Love, Simon      32.447             8   \n",
       "877                                  Vertigo      27.338             8   \n",
       "58360                        Five Feet Apart      35.339             8   \n",
       "886                               Casablanca      26.816             8   \n",
       "10136            Dilwale Dulhania Le Jayenge      36.331             8   \n",
       "1137                         Cinema Paradiso      27.184             8   \n",
       "40080                         The Handmaiden      57.451             8   \n",
       "884                         Some Like It Hot      26.345             8   \n",
       "873                      Singin' in the Rain      23.424             8   \n",
       "2620                            Barry Lyndon      20.173             8   \n",
       "\n",
       "       vote_count  year  weighted_rating  \n",
       "351         25752  1994         7.980267  \n",
       "7211        13900  2004         7.963695  \n",
       "44531       11458  2017         7.956099  \n",
       "42046       10543  2016         7.952364  \n",
       "10359        7489  2005         7.933476  \n",
       "52232        5784  2018         7.914562  \n",
       "877          5330  1958         7.907564  \n",
       "58360        5304  2019         7.907129  \n",
       "886          5013  1943         7.901957  \n",
       "10136        4293  1995         7.886292  \n",
       "1137         4024  1988         7.879072  \n",
       "40080        3372  2016         7.857079  \n",
       "884          3197  1959         7.849745  \n",
       "873          2896  1952         7.835198  \n",
       "2620         2588  1975         7.817076  "
      ]
     },
     "execution_count": 16,
     "metadata": {},
     "output_type": "execute_result"
    }
   ],
   "source": [
    "build_chart('Romance').head(15)"
   ]
  },
  {
   "cell_type": "markdown",
   "metadata": {},
   "source": [
    "The top romance movie according to metrics is Hollywood's **Forrest Gump**. It is based on the 1986 novel of the same name by Winston Groom and stars Tom Hanks, Robin Wright."
   ]
  },
  {
   "cell_type": "markdown",
   "metadata": {},
   "source": [
    "## Content Based Recommender\n",
    "\n",
    "The recommender built in the previous section suffers some severe limitations. For one, it gives the same recommendation to everyone, regardless of the user's personal taste. If a person who loves romantic movies (and hates action) were to look at our Top 15 Chart, she/he wouldn't probably like most of the movies. If she/he were to go one step further and look at the charts by genre, she/he wouldn't still be getting the best recommendations.\n",
    "\n",
    "To personalise recommendations more, an engine is going to be built that computes similarity between movies based on certain metrics and suggests movies that are most similar to a particular movie that a user liked. Since using movie metadata (or content) to build this engine, this also known as **Content Based Filtering.**\n",
    "\n",
    "Build two Content Based Recommenders based on:\n",
    "* Movie Overviews and Taglines\n",
    "* Movie Cast, Crew, Keywords and Genre\n",
    "\n",
    "Also, as mentioned in the introduction, using a subset of all the movies available due to limiting personal computing power available. "
   ]
  },
  {
   "cell_type": "code",
   "execution_count": 17,
   "metadata": {},
   "outputs": [],
   "source": [
    "links_small = pd.read_csv('data_small/links_small.csv')"
   ]
  },
  {
   "cell_type": "code",
   "execution_count": 18,
   "metadata": {},
   "outputs": [],
   "source": [
    "tmdbId_small = links_small[links_small['tmdbId'].notnull()]['tmdbId'].astype(int)"
   ]
  },
  {
   "cell_type": "code",
   "execution_count": 19,
   "metadata": {},
   "outputs": [],
   "source": [
    "movies_df['id'] = movies_df['id'].astype(int)"
   ]
  },
  {
   "cell_type": "code",
   "execution_count": 20,
   "metadata": {},
   "outputs": [],
   "source": [
    "small_df = movies_df[movies_df['id'].isin(tmdbId_small)]"
   ]
  },
  {
   "cell_type": "code",
   "execution_count": 21,
   "metadata": {},
   "outputs": [
    {
     "name": "stdout",
     "output_type": "stream",
     "text": [
      "<class 'pandas.core.frame.DataFrame'>\n",
      "Int64Index: 9392 entries, 0 to 80245\n",
      "Data columns (total 26 columns):\n",
      " #   Column                 Non-Null Count  Dtype  \n",
      "---  ------                 --------------  -----  \n",
      " 0   adult                  9392 non-null   bool   \n",
      " 1   backdrop_path          9209 non-null   object \n",
      " 2   belongs_to_collection  1974 non-null   object \n",
      " 3   budget                 9392 non-null   int64  \n",
      " 4   genres                 9392 non-null   object \n",
      " 5   homepage               2498 non-null   object \n",
      " 6   id                     9392 non-null   int32  \n",
      " 7   imdb_id                9390 non-null   object \n",
      " 8   original_language      9392 non-null   object \n",
      " 9   original_title         9392 non-null   object \n",
      " 10  overview               9383 non-null   object \n",
      " 11  popularity             9392 non-null   float64\n",
      " 12  poster_path            9380 non-null   object \n",
      " 13  production_companies   9392 non-null   object \n",
      " 14  production_countries   9392 non-null   object \n",
      " 15  release_date           9392 non-null   object \n",
      " 16  revenue                9392 non-null   int64  \n",
      " 17  runtime                9392 non-null   int64  \n",
      " 18  spoken_languages       9392 non-null   object \n",
      " 19  status                 9392 non-null   object \n",
      " 20  tagline                7907 non-null   object \n",
      " 21  title                  9392 non-null   object \n",
      " 22  video                  9392 non-null   bool   \n",
      " 23  vote_average           9392 non-null   float64\n",
      " 24  vote_count             9392 non-null   int64  \n",
      " 25  year                   9392 non-null   object \n",
      "dtypes: bool(2), float64(2), int32(1), int64(4), object(17)\n",
      "memory usage: 1.8+ MB\n"
     ]
    }
   ],
   "source": [
    "small_df.info()"
   ]
  },
  {
   "cell_type": "markdown",
   "metadata": {},
   "source": [
    "There are **9392** movies avaiable in the small movies metadata dataset which is 9 times smaller than original dataset of 85,000 movies."
   ]
  },
  {
   "cell_type": "markdown",
   "metadata": {},
   "source": [
    "### Movie Description Based Recommender\n",
    "\n",
    "Firstly, try to build a recommender using movie descriptions and taglines. There is no quantitative metric to judge machine's performance so this will have to be done qualitatively."
   ]
  },
  {
   "cell_type": "code",
   "execution_count": 22,
   "metadata": {},
   "outputs": [],
   "source": [
    "small_df['tagline'].fillna('', inplace=True)\n",
    "small_df['description'] = small_df['overview'] + small_df['tagline']\n",
    "small_df['description'].fillna('', inplace=True)"
   ]
  },
  {
   "cell_type": "code",
   "execution_count": 23,
   "metadata": {},
   "outputs": [],
   "source": [
    "tf = TfidfVectorizer(analyzer='word', ngram_range=(1, 2), min_df=0, stop_words='english')\n",
    "tfidf_matrix = tf.fit_transform(small_df['description'])"
   ]
  },
  {
   "cell_type": "markdown",
   "metadata": {},
   "source": [
    "#### Cosine Similarity\n",
    "\n",
    "Using the Cosine Similarity to calculate a numeric quantity that denotes the similarity between two movies. Mathematically, it is defined as follows:\n",
    "\n",
    "$cosine(x,y) = \\frac{x. y^\\intercal}{||x||.||y||}$\n",
    "\n",
    "Since using the TF-IDF Vectorizer, calculating the Dot Product will directly give the Cosine Similarity Score. Therefore, sklearn's **linear_kernel** will be used instead of cosine_similarities since it is much faster."
   ]
  },
  {
   "cell_type": "code",
   "execution_count": 24,
   "metadata": {},
   "outputs": [],
   "source": [
    "cosine = linear_kernel(tfidf_matrix, tfidf_matrix)"
   ]
  },
  {
   "cell_type": "code",
   "execution_count": 25,
   "metadata": {},
   "outputs": [
    {
     "data": {
      "text/plain": [
       "array([1.        , 0.00658619, 0.        , ..., 0.        , 0.        ,\n",
       "       0.00930901])"
      ]
     },
     "execution_count": 25,
     "metadata": {},
     "output_type": "execute_result"
    }
   ],
   "source": [
    "cosine[0]"
   ]
  },
  {
   "cell_type": "markdown",
   "metadata": {},
   "source": [
    "Then now having a pairwise cosine similarity matrix for all the movies in the dataset.\n",
    "\n",
    "The next step is to write a function that returns the 30 most similar movies based on the cosine similarity score."
   ]
  },
  {
   "cell_type": "code",
   "execution_count": 26,
   "metadata": {},
   "outputs": [],
   "source": [
    "small_df = small_df.reset_index()"
   ]
  },
  {
   "cell_type": "code",
   "execution_count": 27,
   "metadata": {},
   "outputs": [],
   "source": [
    "small_df.rename(columns={'index': 'previous_index'}, inplace=True)"
   ]
  },
  {
   "cell_type": "code",
   "execution_count": 28,
   "metadata": {},
   "outputs": [],
   "source": [
    "def get_recommendations(title):\n",
    "    idx = pd.Series(data=small_df[small_df['title'] == title].index,\n",
    "                    index=small_df[small_df['title'] == title]['title'])\n",
    "                    \n",
    "    if idx.shape[0] > 1:\n",
    "        indices_list = list(idx)\n",
    "        indices_df = small_df[small_df.index.isin(indices_list)]\n",
    "        indices_df = indices_df[indices_df['year'] == indices_df['year'].max()]\n",
    "        idx = pd.Series(data=indices_df.index, index=indices_df['title'])\n",
    "    \n",
    "    idx = idx[0]\n",
    "    similarity_score = list(enumerate(cosine[idx]))\n",
    "    similarity_score = sorted(similarity_score, key=lambda x: x[1], reverse=True)\n",
    "    similarity_score = similarity_score[1:31]\n",
    "    movie_indices = [i[0] for i in similarity_score]\n",
    "\n",
    "    return small_df['title'].iloc[movie_indices]"
   ]
  },
  {
   "cell_type": "code",
   "execution_count": 29,
   "metadata": {},
   "outputs": [
    {
     "data": {
      "text/plain": [
       "7895                 Iron Man 3\n",
       "7160                 Iron Man 2\n",
       "8473                      Clown\n",
       "8369    Avengers: Age of Ultron\n",
       "8684                       Room\n",
       "2297          Felicia's Journey\n",
       "7723                      Brake\n",
       "5745                    Hostage\n",
       "9286         The Shape of Water\n",
       "6787                       Igor\n",
       "Name: title, dtype: object"
      ]
     },
     "execution_count": 29,
     "metadata": {},
     "output_type": "execute_result"
    }
   ],
   "source": [
    "get_recommendations('Iron Man').head(10)"
   ]
  },
  {
   "cell_type": "code",
   "execution_count": 30,
   "metadata": {},
   "outputs": [
    {
     "data": {
      "text/plain": [
       "7459                   Captain America: The First Avenger\n",
       "9070                                            Team Thor\n",
       "9107                        Marvel One-Shot: Agent Carter\n",
       "8096                  Captain America: The Winter Soldier\n",
       "8379                           Captain America: Civil War\n",
       "6643    Indiana Jones and the Kingdom of the Crystal S...\n",
       "1601                           House II: The Second Story\n",
       "2361                                  Hell in the Pacific\n",
       "6286                                Letters from Iwo Jima\n",
       "1115                                       Absolute Power\n",
       "Name: title, dtype: object"
      ]
     },
     "execution_count": 30,
     "metadata": {},
     "output_type": "execute_result"
    }
   ],
   "source": [
    "get_recommendations('Captain America').head(10)"
   ]
  },
  {
   "cell_type": "markdown",
   "metadata": {},
   "source": [
    "For **Captain America**, the system is able to identify it as a Captain America film and subsequently recommend other Captain America films as its top recommendations.\n",
    "\n",
    "But unfortunately, that is all this system can do at the moment. This is not of much use to most people as it doesn't take into considerations very important features such as cast, crew, director and genre, which determine the rating and the popularity of a movie. Someone who liked **Captain America** probably likes it more due to belonging to **Marvel Studios** and every other high quality movies in the MCU.\n",
    "\n",
    "Therefore, much more suggestive metadata is going to be used than **Overview** and **Tagline**. In the next subsection, building a more sophisticated recommender that takes **genre**, **keywords**, **cast** and **crew** into consideration."
   ]
  },
  {
   "cell_type": "markdown",
   "metadata": {},
   "source": [
    "### Metadata Based Recommender\n",
    "\n",
    "To build standard metadata based content recommender, it is important to merge current dataset with the crew and the keyword datasets."
   ]
  },
  {
   "cell_type": "code",
   "execution_count": 31,
   "metadata": {},
   "outputs": [],
   "source": [
    "credits_df = pd.read_csv('data/credits.csv')\n",
    "keywords_df = pd.read_csv('data/keywords.csv')"
   ]
  },
  {
   "cell_type": "code",
   "execution_count": 32,
   "metadata": {},
   "outputs": [],
   "source": [
    "credits_df['id'] = credits_df['id'].astype('int')\n",
    "keywords_df['id'] = keywords_df['id'].astype('int')"
   ]
  },
  {
   "cell_type": "code",
   "execution_count": 33,
   "metadata": {},
   "outputs": [],
   "source": [
    "credits_df.drop_duplicates('id', inplace=True)\n",
    "keywords_df.drop_duplicates('id', inplace=True)"
   ]
  },
  {
   "cell_type": "code",
   "execution_count": 34,
   "metadata": {},
   "outputs": [],
   "source": [
    "movies_df = movies_df.merge(credits_df, on='id', how='left')\n",
    "movies_df = movies_df.merge(keywords_df, on='id', how='left')"
   ]
  },
  {
   "cell_type": "code",
   "execution_count": 35,
   "metadata": {},
   "outputs": [],
   "source": [
    "small_df = movies_df[movies_df['id'].isin(tmdbId_small)]"
   ]
  },
  {
   "cell_type": "markdown",
   "metadata": {},
   "source": [
    "Now having cast, crew, genres and credits, all in one dataframe. Let wrangle this a little more using the following intuitions:\n",
    "\n",
    "1. **Crew:** From the crew, only pick the director as feature since the others don't contribute that much to the *feel* of the movie.\n",
    "\n",
    "2. **Cast:** Choosing Cast is a little more tricky. Lesser known actors and minor roles do not really affect people's opinion of a movie. Therefore, only select the major characters and their respective actors. Arbitrarily choosing the top 3 actors that appear in the credits list. "
   ]
  },
  {
   "cell_type": "code",
   "execution_count": 36,
   "metadata": {},
   "outputs": [],
   "source": [
    "small_df['cast'] = small_df['cast'].apply(literal_eval)\n",
    "small_df['crew'] = small_df['crew'].apply(literal_eval)\n",
    "small_df['keywords'] = small_df['keywords'].apply(literal_eval)\n",
    "small_df['cast_size'] = small_df['cast'].apply(lambda x: len(x))\n",
    "small_df['crew_size'] = small_df['crew'].apply(lambda x: len(x))"
   ]
  },
  {
   "cell_type": "code",
   "execution_count": 37,
   "metadata": {},
   "outputs": [],
   "source": [
    "def get_director(x):\n",
    "    for i in x:\n",
    "        if i['job'] == 'Director':\n",
    "            return i['name']\n",
    "    return np.nan"
   ]
  },
  {
   "cell_type": "code",
   "execution_count": 38,
   "metadata": {},
   "outputs": [],
   "source": [
    "small_df['director'] = small_df['crew'].apply(get_director)"
   ]
  },
  {
   "cell_type": "code",
   "execution_count": 39,
   "metadata": {},
   "outputs": [],
   "source": [
    "small_df['cast'] = small_df['cast'].apply(lambda x: [i['name'] for i in x] if isinstance(x, list) else [])\n",
    "small_df['cast'] = small_df['cast'].apply(lambda x: x[:3] if len(x) >= 3 else x)"
   ]
  },
  {
   "cell_type": "code",
   "execution_count": 40,
   "metadata": {},
   "outputs": [],
   "source": [
    "small_df['keywords'] = small_df['keywords'].apply(lambda x: [i['name'] for i in x] if isinstance(x, list) else [])"
   ]
  },
  {
   "cell_type": "markdown",
   "metadata": {},
   "source": [
    "The plan on what doing is creating a metadata dump for every movie which consists of **genres, director, main actors and keywords.** then using a **Count Vectorizer** to create count matrix as being done in the Description Recommender. The remaining steps are similar to what done earlier: calculate the cosine similarities and return movies that are most similar.\n",
    "\n",
    "These are steps following in the preparation of genres and credits data:\n",
    "\n",
    "1. **Strip Spaces and Convert to Lowercase** from all features. This way, the engine will not confuse between **Johnny Depp** and **Johnny Galecki.**\n",
    "\n",
    "2. **Mention Director 2 times** to give it more weight relative to the entire cast."
   ]
  },
  {
   "cell_type": "code",
   "execution_count": 41,
   "metadata": {},
   "outputs": [],
   "source": [
    "small_df['cast'] = small_df['cast'].apply(lambda x: [str.lower(i.replace(' ', '')) for i in x])"
   ]
  },
  {
   "cell_type": "code",
   "execution_count": 42,
   "metadata": {},
   "outputs": [],
   "source": [
    "small_df['director'] = small_df['director'].astype('str').apply(lambda x: str.lower(x.replace(' ', '')))\n",
    "small_df['director'] = small_df['director'].apply(lambda x: [x,x])"
   ]
  },
  {
   "cell_type": "markdown",
   "metadata": {},
   "source": [
    "#### Keywords\n",
    "\n",
    "Doing a small amount of pre-processing of keywords before putting them to any use. As a first step, calculate the frequenct counts of every keyword that appears in the dataset."
   ]
  },
  {
   "cell_type": "code",
   "execution_count": 43,
   "metadata": {},
   "outputs": [],
   "source": [
    "stack_keywords = small_df.apply(lambda x: pd.Series(x['keywords']), axis=1).stack().reset_index(level=1, drop=True)\n",
    "stack_keywords.name = 'keyword'"
   ]
  },
  {
   "cell_type": "code",
   "execution_count": 44,
   "metadata": {},
   "outputs": [],
   "source": [
    "stack_keywords = stack_keywords.value_counts()"
   ]
  },
  {
   "cell_type": "code",
   "execution_count": 45,
   "metadata": {},
   "outputs": [
    {
     "data": {
      "text/plain": [
       "based on novel or book    918\n",
       "woman director            567\n",
       "murder                    511\n",
       "new york city             400\n",
       "duringcreditsstinger      344\n",
       "Name: keyword, dtype: int64"
      ]
     },
     "execution_count": 45,
     "metadata": {},
     "output_type": "execute_result"
    }
   ],
   "source": [
    "stack_keywords[:5]"
   ]
  },
  {
   "cell_type": "markdown",
   "metadata": {},
   "source": [
    "Keywords occur in frequencies ranging from 1 to 918. It is not any use for keywords that occur only once. Therefore, these can be safely removed.\n",
    "\n",
    "Finally, every word will be converted to its stem so that words such as *Heroes* and *Hero* are considered the same."
   ]
  },
  {
   "cell_type": "code",
   "execution_count": 46,
   "metadata": {},
   "outputs": [],
   "source": [
    "stack_keywords = stack_keywords[stack_keywords > 1]"
   ]
  },
  {
   "cell_type": "code",
   "execution_count": 47,
   "metadata": {},
   "outputs": [
    {
     "data": {
      "text/plain": [
       "based on novel or book    918\n",
       "woman director            567\n",
       "murder                    511\n",
       "new york city             400\n",
       "duringcreditsstinger      344\n",
       "                         ... \n",
       "necklace                    2\n",
       "auckland                    2\n",
       "pet cemetery                2\n",
       "cuban refugees              2\n",
       "ferry                       2\n",
       "Name: keyword, Length: 8056, dtype: int64"
      ]
     },
     "execution_count": 47,
     "metadata": {},
     "output_type": "execute_result"
    }
   ],
   "source": [
    "stack_keywords"
   ]
  },
  {
   "cell_type": "code",
   "execution_count": 48,
   "metadata": {},
   "outputs": [],
   "source": [
    "stemmer = SnowballStemmer('english')"
   ]
  },
  {
   "cell_type": "code",
   "execution_count": 49,
   "metadata": {},
   "outputs": [
    {
     "data": {
      "text/plain": [
       "'hero'"
      ]
     },
     "execution_count": 49,
     "metadata": {},
     "output_type": "execute_result"
    }
   ],
   "source": [
    "stemmer.stem('heroes')"
   ]
  },
  {
   "cell_type": "code",
   "execution_count": 50,
   "metadata": {},
   "outputs": [],
   "source": [
    "def filter_keywords(keyword):\n",
    "    words = []\n",
    "    for i in keyword:\n",
    "        if i in stack_keywords:\n",
    "            words.append(i)\n",
    "    return words"
   ]
  },
  {
   "cell_type": "code",
   "execution_count": 51,
   "metadata": {},
   "outputs": [],
   "source": [
    "small_df['keywords'] = small_df['keywords'].apply(filter_keywords)\n",
    "small_df['keywords'] = small_df['keywords'].apply(lambda x: [stemmer.stem(i) for i in x])\n",
    "small_df['keywords'] = small_df['keywords'].apply(lambda x: [str.lower(i.replace(' ', '')) for i in x])"
   ]
  },
  {
   "cell_type": "code",
   "execution_count": 52,
   "metadata": {},
   "outputs": [],
   "source": [
    "small_df['union'] = small_df['genres'] + small_df['keywords'] + small_df['cast'] + small_df['director']\n",
    "small_df['union'] = small_df['union'].apply(lambda x: ' '.join(x))"
   ]
  },
  {
   "cell_type": "code",
   "execution_count": 53,
   "metadata": {},
   "outputs": [],
   "source": [
    "count = CountVectorizer(analyzer='word', ngram_range=(1, 2), min_df=0, stop_words='english')\n",
    "count_matrix = count.fit_transform(small_df['union'])"
   ]
  },
  {
   "cell_type": "code",
   "execution_count": 54,
   "metadata": {},
   "outputs": [],
   "source": [
    "cosine = cosine_similarity(count_matrix, count_matrix)"
   ]
  },
  {
   "cell_type": "code",
   "execution_count": 55,
   "metadata": {},
   "outputs": [
    {
     "data": {
      "text/plain": [
       "array([1.        , 0.04843595, 0.02216755, ..., 0.02594996, 0.        ,\n",
       "       0.        ])"
      ]
     },
     "execution_count": 55,
     "metadata": {},
     "output_type": "execute_result"
    }
   ],
   "source": [
    "cosine[0]"
   ]
  },
  {
   "cell_type": "code",
   "execution_count": 56,
   "metadata": {},
   "outputs": [],
   "source": [
    "small_df = small_df.reset_index()"
   ]
  },
  {
   "cell_type": "code",
   "execution_count": 57,
   "metadata": {},
   "outputs": [],
   "source": [
    "small_df.rename(columns={'index': 'previous_index'}, inplace=True)"
   ]
  },
  {
   "cell_type": "markdown",
   "metadata": {},
   "source": [
    "Reusing the get_recommendations function that had been written earlier. Since cosine similarity scores have been changed, it is expected that it can give different (and probably better) results. Let check for **Iron Man** again and see what recommendations this time around."
   ]
  },
  {
   "cell_type": "code",
   "execution_count": 58,
   "metadata": {},
   "outputs": [
    {
     "data": {
      "text/plain": [
       "7160                             Iron Man 2\n",
       "7895                             Iron Man 3\n",
       "8376                 Avengers: Infinity War\n",
       "8379             Captain America: Civil War\n",
       "7502                           The Avengers\n",
       "8375                          Black Panther\n",
       "8166                Guardians of the Galaxy\n",
       "8378         Guardians of the Galaxy Vol. 2\n",
       "8096    Captain America: The Winter Soldier\n",
       "8369                Avengers: Age of Ultron\n",
       "Name: title, dtype: object"
      ]
     },
     "execution_count": 58,
     "metadata": {},
     "output_type": "execute_result"
    }
   ],
   "source": [
    "get_recommendations('Iron Man').head(10)"
   ]
  },
  {
   "cell_type": "markdown",
   "metadata": {},
   "source": [
    "The results that get this time around is deeply more satisfying. The recommendations seem to have recognized other Iron Man franchise and other MCU movies (due to the high weightage given to genres) and put them as top recommendations. It is enjoyable of watching **Iron Man** as well as some of the other ones in the list including **The Avengers**, **Captain America: The Winter Soldier** and **Black Panther**."
   ]
  },
  {
   "cell_type": "code",
   "execution_count": 59,
   "metadata": {},
   "outputs": [
    {
     "data": {
      "text/plain": [
       "7038                  The Twilight Saga: New Moon\n",
       "7196                   The Twilight Saga: Eclipse\n",
       "7379                              Red Riding Hood\n",
       "7554    The Twilight Saga: Breaking Dawn - Part 1\n",
       "7795    The Twilight Saga: Breaking Dawn - Part 2\n",
       "6305                          Blood and Chocolate\n",
       "7851                          Beautiful Creatures\n",
       "5833                             Lords of Dogtown\n",
       "8439                                  Paper Towns\n",
       "6267                           The Nativity Story\n",
       "Name: title, dtype: object"
      ]
     },
     "execution_count": 59,
     "metadata": {},
     "output_type": "execute_result"
    }
   ],
   "source": [
    "get_recommendations(\"Twilight\").head(10)"
   ]
  },
  {
   "cell_type": "code",
   "execution_count": 60,
   "metadata": {},
   "outputs": [
    {
     "data": {
      "text/plain": [
       "7906                         Fast & Furious 6\n",
       "6145    The Fast and the Furious: Tokyo Drift\n",
       "7414                                Fast Five\n",
       "4285                     Better Luck Tomorrow\n",
       "6039                                Annapolis\n",
       "8487                                Furious 7\n",
       "3221                 The Fast and the Furious\n",
       "4569                               The Rookie\n",
       "6727                           Righteous Kill\n",
       "8088                           Need for Speed\n",
       "Name: title, dtype: object"
      ]
     },
     "execution_count": 60,
     "metadata": {},
     "output_type": "execute_result"
    }
   ],
   "source": [
    "get_recommendations('Fast & Furious').head(10)"
   ]
  },
  {
   "cell_type": "markdown",
   "metadata": {},
   "source": [
    "It is clearly able to experiment on this engine by trying out different weights for other features (directors, actors, genres), limiting the number of keywords that can be used in the soup, weighing genres based on their frequency, only showing movies with the same languages, etc."
   ]
  },
  {
   "cell_type": "markdown",
   "metadata": {},
   "source": [
    "#### Popularity and Ratings\n",
    "\n",
    "One thing that noticed about the recommendation system is that it recommends movies regardless of ratings and popularity. It is true that **Blood and Chocolate** has a lot of similar characters as compared to **Twilight** but it was a terrible movie that shouldn't be recommended to anyone.\n",
    "\n",
    "Therefore, a mechanism will be added to remove bad movies and return movies which are popular and have had a good critical response.\n",
    "\n",
    "An aim is taking the **Top 25 movies** based on similarity scores and calculate the vote of the **60th percentile** movie. Then, using this as the value of ***m*** and calculating the ***weighted rating*** of each movie using IMDB's formula like what had been done in the Simple Recommender section."
   ]
  },
  {
   "cell_type": "code",
   "execution_count": 61,
   "metadata": {},
   "outputs": [],
   "source": [
    "def improved_recommendations(title):\n",
    "    idx = pd.Series(data=small_df[small_df['title'] == title].index,\n",
    "                    index=small_df[small_df['title'] == title]['title'])\n",
    "                    \n",
    "    if idx.shape[0] > 1:\n",
    "        indices_list = list(idx)\n",
    "        indices_df = small_df[small_df.index.isin(indices_list)]\n",
    "        indices_df = indices_df[indices_df['year'] == indices_df['year'].max()]\n",
    "        idx = pd.Series(data=indices_df.index, index=indices_df['title'])\n",
    "    \n",
    "    idx = idx[0]\n",
    "    similarity_score = list(enumerate(cosine[idx]))\n",
    "    similarity_score = sorted(similarity_score, key=lambda x: x[1], reverse=True)\n",
    "    similarity_score = similarity_score[1:26]\n",
    "    movie_indices = [i[0] for i in similarity_score]\n",
    "\n",
    "\n",
    "    movies = small_df.iloc[movie_indices][['title', 'vote_count', 'vote_average', 'year']]\n",
    "    vote_counts = movies[movies['vote_count'].notnull()]['vote_count'].astype(int)\n",
    "    vote_averages = movies[movies['vote_average'].notnull()]['vote_average'].astype(int)\n",
    "\n",
    "    m = vote_counts.quantile(0.6)\n",
    "    C = vote_averages.mean()\n",
    "\n",
    "    qualified = movies[(movies['vote_count'].notnull()) & (movies['vote_count'] >= m) & (movies['vote_average'].notnull())]\n",
    "    qualified['vote_count'] = qualified['vote_count'].astype('int')\n",
    "    qualified['vote_average'] = qualified['vote_average'].astype('int')\n",
    "\n",
    "    qualified['weighted_rating'] = qualified.apply(weighted_rating, args=(m, C), axis=1)\n",
    "    qualified = qualified.sort_values('weighted_rating', ascending=False).head(10)\n",
    "\n",
    "    return qualified"
   ]
  },
  {
   "cell_type": "code",
   "execution_count": 62,
   "metadata": {},
   "outputs": [
    {
     "data": {
      "text/html": [
       "<div>\n",
       "<style scoped>\n",
       "    .dataframe tbody tr th:only-of-type {\n",
       "        vertical-align: middle;\n",
       "    }\n",
       "\n",
       "    .dataframe tbody tr th {\n",
       "        vertical-align: top;\n",
       "    }\n",
       "\n",
       "    .dataframe thead th {\n",
       "        text-align: right;\n",
       "    }\n",
       "</style>\n",
       "<table border=\"1\" class=\"dataframe\">\n",
       "  <thead>\n",
       "    <tr style=\"text-align: right;\">\n",
       "      <th></th>\n",
       "      <th>title</th>\n",
       "      <th>vote_count</th>\n",
       "      <th>vote_average</th>\n",
       "      <th>year</th>\n",
       "      <th>weighted_rating</th>\n",
       "    </tr>\n",
       "  </thead>\n",
       "  <tbody>\n",
       "    <tr>\n",
       "      <th>8376</th>\n",
       "      <td>Avengers: Infinity War</td>\n",
       "      <td>28055</td>\n",
       "      <td>8</td>\n",
       "      <td>2018</td>\n",
       "      <td>7.349975</td>\n",
       "    </tr>\n",
       "    <tr>\n",
       "      <th>7502</th>\n",
       "      <td>The Avengers</td>\n",
       "      <td>29412</td>\n",
       "      <td>7</td>\n",
       "      <td>2012</td>\n",
       "      <td>6.773061</td>\n",
       "    </tr>\n",
       "    <tr>\n",
       "      <th>8166</th>\n",
       "      <td>Guardians of the Galaxy</td>\n",
       "      <td>26869</td>\n",
       "      <td>7</td>\n",
       "      <td>2014</td>\n",
       "      <td>6.760758</td>\n",
       "    </tr>\n",
       "    <tr>\n",
       "      <th>8369</th>\n",
       "      <td>Avengers: Age of Ultron</td>\n",
       "      <td>21951</td>\n",
       "      <td>7</td>\n",
       "      <td>2015</td>\n",
       "      <td>6.732739</td>\n",
       "    </tr>\n",
       "    <tr>\n",
       "      <th>8379</th>\n",
       "      <td>Captain America: Civil War</td>\n",
       "      <td>21721</td>\n",
       "      <td>7</td>\n",
       "      <td>2016</td>\n",
       "      <td>6.731267</td>\n",
       "    </tr>\n",
       "    <tr>\n",
       "      <th>8375</th>\n",
       "      <td>Black Panther</td>\n",
       "      <td>21221</td>\n",
       "      <td>7</td>\n",
       "      <td>2018</td>\n",
       "      <td>6.728010</td>\n",
       "    </tr>\n",
       "    <tr>\n",
       "      <th>8378</th>\n",
       "      <td>Guardians of the Galaxy Vol. 2</td>\n",
       "      <td>20544</td>\n",
       "      <td>7</td>\n",
       "      <td>2017</td>\n",
       "      <td>6.723473</td>\n",
       "    </tr>\n",
       "    <tr>\n",
       "      <th>7406</th>\n",
       "      <td>Thor</td>\n",
       "      <td>20187</td>\n",
       "      <td>6</td>\n",
       "      <td>2011</td>\n",
       "      <td>6.219199</td>\n",
       "    </tr>\n",
       "    <tr>\n",
       "      <th>7459</th>\n",
       "      <td>Captain America: The First Avenger</td>\n",
       "      <td>20446</td>\n",
       "      <td>6</td>\n",
       "      <td>2011</td>\n",
       "      <td>6.217797</td>\n",
       "    </tr>\n",
       "    <tr>\n",
       "      <th>7895</th>\n",
       "      <td>Iron Man 3</td>\n",
       "      <td>21239</td>\n",
       "      <td>6</td>\n",
       "      <td>2013</td>\n",
       "      <td>6.213613</td>\n",
       "    </tr>\n",
       "  </tbody>\n",
       "</table>\n",
       "</div>"
      ],
      "text/plain": [
       "                                   title  vote_count  vote_average  year  \\\n",
       "8376              Avengers: Infinity War       28055             8  2018   \n",
       "7502                        The Avengers       29412             7  2012   \n",
       "8166             Guardians of the Galaxy       26869             7  2014   \n",
       "8369             Avengers: Age of Ultron       21951             7  2015   \n",
       "8379          Captain America: Civil War       21721             7  2016   \n",
       "8375                       Black Panther       21221             7  2018   \n",
       "8378      Guardians of the Galaxy Vol. 2       20544             7  2017   \n",
       "7406                                Thor       20187             6  2011   \n",
       "7459  Captain America: The First Avenger       20446             6  2011   \n",
       "7895                          Iron Man 3       21239             6  2013   \n",
       "\n",
       "      weighted_rating  \n",
       "8376         7.349975  \n",
       "7502         6.773061  \n",
       "8166         6.760758  \n",
       "8369         6.732739  \n",
       "8379         6.731267  \n",
       "8375         6.728010  \n",
       "8378         6.723473  \n",
       "7406         6.219199  \n",
       "7459         6.217797  \n",
       "7895         6.213613  "
      ]
     },
     "execution_count": 62,
     "metadata": {},
     "output_type": "execute_result"
    }
   ],
   "source": [
    "improved_recommendations('Iron Man')"
   ]
  },
  {
   "cell_type": "code",
   "execution_count": 63,
   "metadata": {},
   "outputs": [
    {
     "data": {
      "text/html": [
       "<div>\n",
       "<style scoped>\n",
       "    .dataframe tbody tr th:only-of-type {\n",
       "        vertical-align: middle;\n",
       "    }\n",
       "\n",
       "    .dataframe tbody tr th {\n",
       "        vertical-align: top;\n",
       "    }\n",
       "\n",
       "    .dataframe thead th {\n",
       "        text-align: right;\n",
       "    }\n",
       "</style>\n",
       "<table border=\"1\" class=\"dataframe\">\n",
       "  <thead>\n",
       "    <tr style=\"text-align: right;\">\n",
       "      <th></th>\n",
       "      <th>title</th>\n",
       "      <th>vote_count</th>\n",
       "      <th>vote_average</th>\n",
       "      <th>year</th>\n",
       "      <th>weighted_rating</th>\n",
       "    </tr>\n",
       "  </thead>\n",
       "  <tbody>\n",
       "    <tr>\n",
       "      <th>8487</th>\n",
       "      <td>Furious 7</td>\n",
       "      <td>10086</td>\n",
       "      <td>7</td>\n",
       "      <td>2015</td>\n",
       "      <td>6.936316</td>\n",
       "    </tr>\n",
       "    <tr>\n",
       "      <th>7414</th>\n",
       "      <td>Fast Five</td>\n",
       "      <td>7666</td>\n",
       "      <td>7</td>\n",
       "      <td>2011</td>\n",
       "      <td>6.917744</td>\n",
       "    </tr>\n",
       "    <tr>\n",
       "      <th>915</th>\n",
       "      <td>The Killer</td>\n",
       "      <td>689</td>\n",
       "      <td>7</td>\n",
       "      <td>1989</td>\n",
       "      <td>6.483301</td>\n",
       "    </tr>\n",
       "    <tr>\n",
       "      <th>7906</th>\n",
       "      <td>Fast &amp; Furious 6</td>\n",
       "      <td>10096</td>\n",
       "      <td>6</td>\n",
       "      <td>2013</td>\n",
       "      <td>5.995287</td>\n",
       "    </tr>\n",
       "    <tr>\n",
       "      <th>3221</th>\n",
       "      <td>The Fast and the Furious</td>\n",
       "      <td>9322</td>\n",
       "      <td>6</td>\n",
       "      <td>2001</td>\n",
       "      <td>5.994921</td>\n",
       "    </tr>\n",
       "    <tr>\n",
       "      <th>6145</th>\n",
       "      <td>The Fast and the Furious: Tokyo Drift</td>\n",
       "      <td>6318</td>\n",
       "      <td>6</td>\n",
       "      <td>2006</td>\n",
       "      <td>5.992725</td>\n",
       "    </tr>\n",
       "    <tr>\n",
       "      <th>8088</th>\n",
       "      <td>Need for Speed</td>\n",
       "      <td>4101</td>\n",
       "      <td>6</td>\n",
       "      <td>2014</td>\n",
       "      <td>5.989318</td>\n",
       "    </tr>\n",
       "    <tr>\n",
       "      <th>7449</th>\n",
       "      <td>Takers</td>\n",
       "      <td>1170</td>\n",
       "      <td>6</td>\n",
       "      <td>2010</td>\n",
       "      <td>5.971942</td>\n",
       "    </tr>\n",
       "    <tr>\n",
       "      <th>6056</th>\n",
       "      <td>Running Scared</td>\n",
       "      <td>952</td>\n",
       "      <td>6</td>\n",
       "      <td>2006</td>\n",
       "      <td>5.968081</td>\n",
       "    </tr>\n",
       "    <tr>\n",
       "      <th>6727</th>\n",
       "      <td>Righteous Kill</td>\n",
       "      <td>1143</td>\n",
       "      <td>5</td>\n",
       "      <td>2008</td>\n",
       "      <td>5.327572</td>\n",
       "    </tr>\n",
       "  </tbody>\n",
       "</table>\n",
       "</div>"
      ],
      "text/plain": [
       "                                      title  vote_count  vote_average  year  \\\n",
       "8487                              Furious 7       10086             7  2015   \n",
       "7414                              Fast Five        7666             7  2011   \n",
       "915                              The Killer         689             7  1989   \n",
       "7906                       Fast & Furious 6       10096             6  2013   \n",
       "3221               The Fast and the Furious        9322             6  2001   \n",
       "6145  The Fast and the Furious: Tokyo Drift        6318             6  2006   \n",
       "8088                         Need for Speed        4101             6  2014   \n",
       "7449                                 Takers        1170             6  2010   \n",
       "6056                         Running Scared         952             6  2006   \n",
       "6727                         Righteous Kill        1143             5  2008   \n",
       "\n",
       "      weighted_rating  \n",
       "8487         6.936316  \n",
       "7414         6.917744  \n",
       "915          6.483301  \n",
       "7906         5.995287  \n",
       "3221         5.994921  \n",
       "6145         5.992725  \n",
       "8088         5.989318  \n",
       "7449         5.971942  \n",
       "6056         5.968081  \n",
       "6727         5.327572  "
      ]
     },
     "execution_count": 63,
     "metadata": {},
     "output_type": "execute_result"
    }
   ],
   "source": [
    "improved_recommendations('Fast & Furious')"
   ]
  },
  {
   "cell_type": "code",
   "execution_count": 64,
   "metadata": {},
   "outputs": [
    {
     "data": {
      "text/html": [
       "<div>\n",
       "<style scoped>\n",
       "    .dataframe tbody tr th:only-of-type {\n",
       "        vertical-align: middle;\n",
       "    }\n",
       "\n",
       "    .dataframe tbody tr th {\n",
       "        vertical-align: top;\n",
       "    }\n",
       "\n",
       "    .dataframe thead th {\n",
       "        text-align: right;\n",
       "    }\n",
       "</style>\n",
       "<table border=\"1\" class=\"dataframe\">\n",
       "  <thead>\n",
       "    <tr style=\"text-align: right;\">\n",
       "      <th></th>\n",
       "      <th>title</th>\n",
       "      <th>vote_count</th>\n",
       "      <th>vote_average</th>\n",
       "      <th>year</th>\n",
       "      <th>weighted_rating</th>\n",
       "    </tr>\n",
       "  </thead>\n",
       "  <tbody>\n",
       "    <tr>\n",
       "      <th>7038</th>\n",
       "      <td>The Twilight Saga: New Moon</td>\n",
       "      <td>8706</td>\n",
       "      <td>6</td>\n",
       "      <td>2009</td>\n",
       "      <td>5.985141</td>\n",
       "    </tr>\n",
       "    <tr>\n",
       "      <th>7795</th>\n",
       "      <td>The Twilight Saga: Breaking Dawn - Part 2</td>\n",
       "      <td>8433</td>\n",
       "      <td>6</td>\n",
       "      <td>2012</td>\n",
       "      <td>5.984721</td>\n",
       "    </tr>\n",
       "    <tr>\n",
       "      <th>7196</th>\n",
       "      <td>The Twilight Saga: Eclipse</td>\n",
       "      <td>8312</td>\n",
       "      <td>6</td>\n",
       "      <td>2010</td>\n",
       "      <td>5.984527</td>\n",
       "    </tr>\n",
       "    <tr>\n",
       "      <th>7554</th>\n",
       "      <td>The Twilight Saga: Breaking Dawn - Part 1</td>\n",
       "      <td>8311</td>\n",
       "      <td>6</td>\n",
       "      <td>2011</td>\n",
       "      <td>5.984526</td>\n",
       "    </tr>\n",
       "    <tr>\n",
       "      <th>8439</th>\n",
       "      <td>Paper Towns</td>\n",
       "      <td>4901</td>\n",
       "      <td>6</td>\n",
       "      <td>2015</td>\n",
       "      <td>5.975919</td>\n",
       "    </tr>\n",
       "    <tr>\n",
       "      <th>6876</th>\n",
       "      <td>17 Again</td>\n",
       "      <td>4839</td>\n",
       "      <td>6</td>\n",
       "      <td>2009</td>\n",
       "      <td>5.975673</td>\n",
       "    </tr>\n",
       "    <tr>\n",
       "      <th>7851</th>\n",
       "      <td>Beautiful Creatures</td>\n",
       "      <td>2726</td>\n",
       "      <td>6</td>\n",
       "      <td>2013</td>\n",
       "      <td>5.962681</td>\n",
       "    </tr>\n",
       "    <tr>\n",
       "      <th>7411</th>\n",
       "      <td>Water for Elephants</td>\n",
       "      <td>2408</td>\n",
       "      <td>6</td>\n",
       "      <td>2011</td>\n",
       "      <td>5.959420</td>\n",
       "    </tr>\n",
       "    <tr>\n",
       "      <th>4848</th>\n",
       "      <td>Thirteen</td>\n",
       "      <td>1486</td>\n",
       "      <td>6</td>\n",
       "      <td>2003</td>\n",
       "      <td>5.945646</td>\n",
       "    </tr>\n",
       "    <tr>\n",
       "      <th>7379</th>\n",
       "      <td>Red Riding Hood</td>\n",
       "      <td>2991</td>\n",
       "      <td>5</td>\n",
       "      <td>2011</td>\n",
       "      <td>5.256491</td>\n",
       "    </tr>\n",
       "  </tbody>\n",
       "</table>\n",
       "</div>"
      ],
      "text/plain": [
       "                                          title  vote_count  vote_average  \\\n",
       "7038                The Twilight Saga: New Moon        8706             6   \n",
       "7795  The Twilight Saga: Breaking Dawn - Part 2        8433             6   \n",
       "7196                 The Twilight Saga: Eclipse        8312             6   \n",
       "7554  The Twilight Saga: Breaking Dawn - Part 1        8311             6   \n",
       "8439                                Paper Towns        4901             6   \n",
       "6876                                   17 Again        4839             6   \n",
       "7851                        Beautiful Creatures        2726             6   \n",
       "7411                        Water for Elephants        2408             6   \n",
       "4848                                   Thirteen        1486             6   \n",
       "7379                            Red Riding Hood        2991             5   \n",
       "\n",
       "      year  weighted_rating  \n",
       "7038  2009         5.985141  \n",
       "7795  2012         5.984721  \n",
       "7196  2010         5.984527  \n",
       "7554  2011         5.984526  \n",
       "8439  2015         5.975919  \n",
       "6876  2009         5.975673  \n",
       "7851  2013         5.962681  \n",
       "7411  2011         5.959420  \n",
       "4848  2003         5.945646  \n",
       "7379  2011         5.256491  "
      ]
     },
     "execution_count": 64,
     "metadata": {},
     "output_type": "execute_result"
    }
   ],
   "source": [
    "improved_recommendations('Twilight')"
   ]
  },
  {
   "cell_type": "markdown",
   "metadata": {},
   "source": [
    "Fortunately, **Blood and Chocolate** does disappear from recommendation list. \n",
    "\n",
    "Therefore, this is a conclusion the Content Based Recommender section here and come back to it when building a hybrid engine later."
   ]
  },
  {
   "cell_type": "markdown",
   "metadata": {},
   "source": [
    "## Collaborative Filtering\n",
    "\n",
    "The Content Based engine suffers from some severe limitations. It is only capable of suggesting movies which are *close* to a certain movie. That is, it is not capable of capturing tastes and providing recommendations across genres.\n",
    "\n",
    "Also, the engine that built is not really personal in that it doesn't capture the personal tastes and biases of a user. Anyone querying this engine for recommendations based on a movie will receive the same recommendations for that movie, regardless of who she/he is.\n",
    "\n",
    "Therefore, in this section, it is about to use a technique called **Collaborative Filtering** to make recommendations to Movie Watchers. Collaborative filtering filters information by using the interactions and data collected by the system from other users. It’s based on the idea that people who agreed in their evaluation of certain items are likely to agree again in the future.\n",
    "\n",
    "It will not be implementing Collaborative Filtering from scratch. Instead, it will use the **Surprise** library that used extremely powerful algorithms like **Singular Value Decomposition (SVD)** to minimise RMSE (Root Mean Square Error) and give great recommendations."
   ]
  },
  {
   "cell_type": "code",
   "execution_count": 65,
   "metadata": {},
   "outputs": [],
   "source": [
    "reader = Reader()"
   ]
  },
  {
   "cell_type": "code",
   "execution_count": 66,
   "metadata": {},
   "outputs": [],
   "source": [
    "ratings_df = pd.read_csv('data_small/ratings_small.csv')"
   ]
  },
  {
   "cell_type": "code",
   "execution_count": 67,
   "metadata": {},
   "outputs": [],
   "source": [
    "data = Dataset.load_from_df(ratings_df[['userId', 'movieId', 'rating']], reader=reader)"
   ]
  },
  {
   "cell_type": "code",
   "execution_count": 68,
   "metadata": {},
   "outputs": [],
   "source": [
    "# Use the famous SVD algorithm.\n",
    "svd = SVD()"
   ]
  },
  {
   "cell_type": "code",
   "execution_count": 69,
   "metadata": {},
   "outputs": [
    {
     "name": "stdout",
     "output_type": "stream",
     "text": [
      "Evaluating RMSE, MAE of algorithm SVD on 5 split(s).\n",
      "\n",
      "                  Fold 1  Fold 2  Fold 3  Fold 4  Fold 5  Mean    Std     \n",
      "RMSE (testset)    0.8758  0.8813  0.8719  0.8703  0.8740  0.8747  0.0038  \n",
      "MAE (testset)     0.6730  0.6772  0.6687  0.6686  0.6737  0.6722  0.0033  \n",
      "Fit time          2.53    1.17    1.33    1.24    1.24    1.50    0.52    \n",
      "Test time         0.90    0.15    0.39    0.17    0.18    0.36    0.28    \n"
     ]
    },
    {
     "data": {
      "text/plain": [
       "{'test_rmse': array([0.87580527, 0.88130383, 0.87187043, 0.870342  , 0.87401289]),\n",
       " 'test_mae': array([0.6730075 , 0.67717802, 0.66865805, 0.66857067, 0.67374549]),\n",
       " 'fit_time': (2.5314135551452637,\n",
       "  1.1726486682891846,\n",
       "  1.3252294063568115,\n",
       "  1.2438914775848389,\n",
       "  1.2426700592041016),\n",
       " 'test_time': (0.9007225036621094,\n",
       "  0.15437030792236328,\n",
       "  0.38810062408447266,\n",
       "  0.16626310348510742,\n",
       "  0.18392682075500488)}"
      ]
     },
     "execution_count": 69,
     "metadata": {},
     "output_type": "execute_result"
    }
   ],
   "source": [
    "# Run 5-fold cross-validation and print results.\n",
    "cross_validate(svd, data, measures=['RMSE', 'MAE'], cv=5, verbose=True)"
   ]
  },
  {
   "cell_type": "markdown",
   "metadata": {},
   "source": [
    "A mean **Root Mean Sqaure Error** of **0.8747** which is more than good enough for this case. Let now train on the dataset and arrive at predictions."
   ]
  },
  {
   "cell_type": "code",
   "execution_count": 70,
   "metadata": {},
   "outputs": [],
   "source": [
    "train_set = data.build_full_trainset()"
   ]
  },
  {
   "cell_type": "code",
   "execution_count": 71,
   "metadata": {},
   "outputs": [
    {
     "data": {
      "text/plain": [
       "<surprise.prediction_algorithms.matrix_factorization.SVD at 0x1e5053e9150>"
      ]
     },
     "execution_count": 71,
     "metadata": {},
     "output_type": "execute_result"
    }
   ],
   "source": [
    "svd.fit(train_set)"
   ]
  },
  {
   "cell_type": "code",
   "execution_count": 72,
   "metadata": {},
   "outputs": [
    {
     "data": {
      "text/html": [
       "<div>\n",
       "<style scoped>\n",
       "    .dataframe tbody tr th:only-of-type {\n",
       "        vertical-align: middle;\n",
       "    }\n",
       "\n",
       "    .dataframe tbody tr th {\n",
       "        vertical-align: top;\n",
       "    }\n",
       "\n",
       "    .dataframe thead th {\n",
       "        text-align: right;\n",
       "    }\n",
       "</style>\n",
       "<table border=\"1\" class=\"dataframe\">\n",
       "  <thead>\n",
       "    <tr style=\"text-align: right;\">\n",
       "      <th></th>\n",
       "      <th>userId</th>\n",
       "      <th>movieId</th>\n",
       "      <th>rating</th>\n",
       "      <th>timestamp</th>\n",
       "    </tr>\n",
       "  </thead>\n",
       "  <tbody>\n",
       "    <tr>\n",
       "      <th>0</th>\n",
       "      <td>1</td>\n",
       "      <td>1</td>\n",
       "      <td>4.0</td>\n",
       "      <td>964982703</td>\n",
       "    </tr>\n",
       "    <tr>\n",
       "      <th>1</th>\n",
       "      <td>1</td>\n",
       "      <td>3</td>\n",
       "      <td>4.0</td>\n",
       "      <td>964981247</td>\n",
       "    </tr>\n",
       "    <tr>\n",
       "      <th>2</th>\n",
       "      <td>1</td>\n",
       "      <td>6</td>\n",
       "      <td>4.0</td>\n",
       "      <td>964982224</td>\n",
       "    </tr>\n",
       "    <tr>\n",
       "      <th>3</th>\n",
       "      <td>1</td>\n",
       "      <td>47</td>\n",
       "      <td>5.0</td>\n",
       "      <td>964983815</td>\n",
       "    </tr>\n",
       "    <tr>\n",
       "      <th>4</th>\n",
       "      <td>1</td>\n",
       "      <td>50</td>\n",
       "      <td>5.0</td>\n",
       "      <td>964982931</td>\n",
       "    </tr>\n",
       "    <tr>\n",
       "      <th>...</th>\n",
       "      <td>...</td>\n",
       "      <td>...</td>\n",
       "      <td>...</td>\n",
       "      <td>...</td>\n",
       "    </tr>\n",
       "    <tr>\n",
       "      <th>227</th>\n",
       "      <td>1</td>\n",
       "      <td>3744</td>\n",
       "      <td>4.0</td>\n",
       "      <td>964980694</td>\n",
       "    </tr>\n",
       "    <tr>\n",
       "      <th>228</th>\n",
       "      <td>1</td>\n",
       "      <td>3793</td>\n",
       "      <td>5.0</td>\n",
       "      <td>964981855</td>\n",
       "    </tr>\n",
       "    <tr>\n",
       "      <th>229</th>\n",
       "      <td>1</td>\n",
       "      <td>3809</td>\n",
       "      <td>4.0</td>\n",
       "      <td>964981220</td>\n",
       "    </tr>\n",
       "    <tr>\n",
       "      <th>230</th>\n",
       "      <td>1</td>\n",
       "      <td>4006</td>\n",
       "      <td>4.0</td>\n",
       "      <td>964982903</td>\n",
       "    </tr>\n",
       "    <tr>\n",
       "      <th>231</th>\n",
       "      <td>1</td>\n",
       "      <td>5060</td>\n",
       "      <td>5.0</td>\n",
       "      <td>964984002</td>\n",
       "    </tr>\n",
       "  </tbody>\n",
       "</table>\n",
       "<p>232 rows × 4 columns</p>\n",
       "</div>"
      ],
      "text/plain": [
       "     userId  movieId  rating  timestamp\n",
       "0         1        1     4.0  964982703\n",
       "1         1        3     4.0  964981247\n",
       "2         1        6     4.0  964982224\n",
       "3         1       47     5.0  964983815\n",
       "4         1       50     5.0  964982931\n",
       "..      ...      ...     ...        ...\n",
       "227       1     3744     4.0  964980694\n",
       "228       1     3793     5.0  964981855\n",
       "229       1     3809     4.0  964981220\n",
       "230       1     4006     4.0  964982903\n",
       "231       1     5060     5.0  964984002\n",
       "\n",
       "[232 rows x 4 columns]"
      ]
     },
     "execution_count": 72,
     "metadata": {},
     "output_type": "execute_result"
    }
   ],
   "source": [
    "ratings_df[ratings_df['userId'] == 1]"
   ]
  },
  {
   "cell_type": "code",
   "execution_count": 73,
   "metadata": {},
   "outputs": [
    {
     "name": "stdout",
     "output_type": "stream",
     "text": [
      "user: 196        item: 302        r_ui = 4.00   est = 3.40   {'was_impossible': False}\n"
     ]
    },
    {
     "data": {
      "text/plain": [
       "Prediction(uid=196, iid=302, r_ui=4, est=3.39642517514232, details={'was_impossible': False})"
      ]
     },
     "execution_count": 73,
     "metadata": {},
     "output_type": "execute_result"
    }
   ],
   "source": [
    "svd.predict(uid=196, iid=302, r_ui=4, verbose=True)"
   ]
  },
  {
   "cell_type": "markdown",
   "metadata": {},
   "source": [
    "For movie with ID 302, getting an estimated prediction of **3.410**. One startling feature of this recommender system is that it doesn't care what the movie is (or what it contains). It works purely on the basis of an assigned movie ID and tries to predict ratings based on how the other users have predicted the movie."
   ]
  },
  {
   "cell_type": "markdown",
   "metadata": {},
   "source": [
    "## Hybrid Recommender\n",
    "\n",
    "In this section, a main purpose is to build a Simple Hybrid Recommender that brings together techniques that have been implemented in the Content Based and Collaborative Filter Based engines. This is how it will work:\n",
    "\n",
    "* **Input:** User ID and the Title of a Movie\n",
    "\n",
    "* **Output:** Similar movies sorted on the basis of expected ratings by that particular user."
   ]
  },
  {
   "cell_type": "code",
   "execution_count": 74,
   "metadata": {},
   "outputs": [],
   "source": [
    "def convert_int(x):\n",
    "    try:\n",
    "        return int(x)\n",
    "    except:\n",
    "        np.nan"
   ]
  },
  {
   "cell_type": "code",
   "execution_count": 75,
   "metadata": {},
   "outputs": [],
   "source": [
    "id_map = pd.read_csv('data_small/links_small.csv')[['movieId', 'tmdbId']]"
   ]
  },
  {
   "cell_type": "code",
   "execution_count": 76,
   "metadata": {},
   "outputs": [],
   "source": [
    "id_map['tmdbId'] = id_map['tmdbId'].apply(convert_int)"
   ]
  },
  {
   "cell_type": "code",
   "execution_count": 77,
   "metadata": {},
   "outputs": [],
   "source": [
    "id_map = id_map.merge(small_df[['title', 'id']], left_on='tmdbId', right_on='id').set_index('title')"
   ]
  },
  {
   "cell_type": "code",
   "execution_count": 78,
   "metadata": {},
   "outputs": [],
   "source": [
    "id_map.drop('tmdbId', axis=1, inplace=True)"
   ]
  },
  {
   "cell_type": "code",
   "execution_count": 79,
   "metadata": {},
   "outputs": [],
   "source": [
    "def hybrid_recommendations(userId, title):\n",
    "    idx = pd.Series(data=small_df[small_df['title'] == title].index,\n",
    "                    index=small_df[small_df['title'] == title]['title'])\n",
    "                    \n",
    "    if idx.shape[0] > 1:\n",
    "        indices_list = list(idx)\n",
    "        indices_df = small_df[small_df.index.isin(indices_list)]\n",
    "        indices_df = indices_df[indices_df['year'] == indices_df['year'].max()]\n",
    "        idx = pd.Series(data=indices_df.index, index=indices_df['title'])\n",
    "    \n",
    "    idx = idx[0]\n",
    "    similarity_score = list(enumerate(cosine[idx]))\n",
    "    similarity_score = sorted(similarity_score, key=lambda x: x[1], reverse=True)\n",
    "    similarity_score = similarity_score[1:26]\n",
    "    movie_indices = [i[0] for i in similarity_score]\n",
    "\n",
    "\n",
    "    movies = small_df.iloc[movie_indices][['title', 'id', 'vote_count', 'vote_average', 'year']]\n",
    "    movies['est'] = movies['id'].apply(lambda x: svd.predict(userId, id_map.set_index('id').loc[x]['movieId']).est)\n",
    "    movies = movies.sort_values('est', ascending=False).head(10)\n",
    "\n",
    "    return movies"
   ]
  },
  {
   "cell_type": "code",
   "execution_count": 80,
   "metadata": {},
   "outputs": [
    {
     "data": {
      "text/html": [
       "<div>\n",
       "<style scoped>\n",
       "    .dataframe tbody tr th:only-of-type {\n",
       "        vertical-align: middle;\n",
       "    }\n",
       "\n",
       "    .dataframe tbody tr th {\n",
       "        vertical-align: top;\n",
       "    }\n",
       "\n",
       "    .dataframe thead th {\n",
       "        text-align: right;\n",
       "    }\n",
       "</style>\n",
       "<table border=\"1\" class=\"dataframe\">\n",
       "  <thead>\n",
       "    <tr style=\"text-align: right;\">\n",
       "      <th></th>\n",
       "      <th>title</th>\n",
       "      <th>id</th>\n",
       "      <th>vote_count</th>\n",
       "      <th>vote_average</th>\n",
       "      <th>year</th>\n",
       "      <th>est</th>\n",
       "    </tr>\n",
       "  </thead>\n",
       "  <tbody>\n",
       "    <tr>\n",
       "      <th>8166</th>\n",
       "      <td>Guardians of the Galaxy</td>\n",
       "      <td>118340</td>\n",
       "      <td>26869</td>\n",
       "      <td>7.905</td>\n",
       "      <td>2014</td>\n",
       "      <td>4.769449</td>\n",
       "    </tr>\n",
       "    <tr>\n",
       "      <th>8377</th>\n",
       "      <td>Thor: Ragnarok</td>\n",
       "      <td>284053</td>\n",
       "      <td>19720</td>\n",
       "      <td>7.594</td>\n",
       "      <td>2017</td>\n",
       "      <td>4.676347</td>\n",
       "    </tr>\n",
       "    <tr>\n",
       "      <th>7434</th>\n",
       "      <td>X-Men: First Class</td>\n",
       "      <td>49538</td>\n",
       "      <td>12093</td>\n",
       "      <td>7.297</td>\n",
       "      <td>2011</td>\n",
       "      <td>4.622500</td>\n",
       "    </tr>\n",
       "    <tr>\n",
       "      <th>4317</th>\n",
       "      <td>X2</td>\n",
       "      <td>36658</td>\n",
       "      <td>9521</td>\n",
       "      <td>7.000</td>\n",
       "      <td>2003</td>\n",
       "      <td>4.578880</td>\n",
       "    </tr>\n",
       "    <tr>\n",
       "      <th>7502</th>\n",
       "      <td>The Avengers</td>\n",
       "      <td>24428</td>\n",
       "      <td>29412</td>\n",
       "      <td>7.711</td>\n",
       "      <td>2012</td>\n",
       "      <td>4.526972</td>\n",
       "    </tr>\n",
       "    <tr>\n",
       "      <th>7459</th>\n",
       "      <td>Captain America: The First Avenger</td>\n",
       "      <td>1771</td>\n",
       "      <td>20446</td>\n",
       "      <td>6.995</td>\n",
       "      <td>2011</td>\n",
       "      <td>4.503477</td>\n",
       "    </tr>\n",
       "    <tr>\n",
       "      <th>8375</th>\n",
       "      <td>Black Panther</td>\n",
       "      <td>284054</td>\n",
       "      <td>21221</td>\n",
       "      <td>7.388</td>\n",
       "      <td>2018</td>\n",
       "      <td>4.488888</td>\n",
       "    </tr>\n",
       "    <tr>\n",
       "      <th>8096</th>\n",
       "      <td>Captain America: The Winter Soldier</td>\n",
       "      <td>100402</td>\n",
       "      <td>17866</td>\n",
       "      <td>7.670</td>\n",
       "      <td>2014</td>\n",
       "      <td>4.477583</td>\n",
       "    </tr>\n",
       "    <tr>\n",
       "      <th>8378</th>\n",
       "      <td>Guardians of the Galaxy Vol. 2</td>\n",
       "      <td>283995</td>\n",
       "      <td>20544</td>\n",
       "      <td>7.621</td>\n",
       "      <td>2017</td>\n",
       "      <td>4.406626</td>\n",
       "    </tr>\n",
       "    <tr>\n",
       "      <th>2826</th>\n",
       "      <td>X-Men</td>\n",
       "      <td>36657</td>\n",
       "      <td>10643</td>\n",
       "      <td>6.998</td>\n",
       "      <td>2000</td>\n",
       "      <td>4.392230</td>\n",
       "    </tr>\n",
       "  </tbody>\n",
       "</table>\n",
       "</div>"
      ],
      "text/plain": [
       "                                    title      id  vote_count  vote_average  \\\n",
       "8166              Guardians of the Galaxy  118340       26869         7.905   \n",
       "8377                       Thor: Ragnarok  284053       19720         7.594   \n",
       "7434                   X-Men: First Class   49538       12093         7.297   \n",
       "4317                                   X2   36658        9521         7.000   \n",
       "7502                         The Avengers   24428       29412         7.711   \n",
       "7459   Captain America: The First Avenger    1771       20446         6.995   \n",
       "8375                        Black Panther  284054       21221         7.388   \n",
       "8096  Captain America: The Winter Soldier  100402       17866         7.670   \n",
       "8378       Guardians of the Galaxy Vol. 2  283995       20544         7.621   \n",
       "2826                                X-Men   36657       10643         6.998   \n",
       "\n",
       "      year       est  \n",
       "8166  2014  4.769449  \n",
       "8377  2017  4.676347  \n",
       "7434  2011  4.622500  \n",
       "4317  2003  4.578880  \n",
       "7502  2012  4.526972  \n",
       "7459  2011  4.503477  \n",
       "8375  2018  4.488888  \n",
       "8096  2014  4.477583  \n",
       "8378  2017  4.406626  \n",
       "2826  2000  4.392230  "
      ]
     },
     "execution_count": 80,
     "metadata": {},
     "output_type": "execute_result"
    }
   ],
   "source": [
    "hybrid_recommendations(1, 'Iron Man')"
   ]
  },
  {
   "cell_type": "code",
   "execution_count": 81,
   "metadata": {},
   "outputs": [
    {
     "data": {
      "text/html": [
       "<div>\n",
       "<style scoped>\n",
       "    .dataframe tbody tr th:only-of-type {\n",
       "        vertical-align: middle;\n",
       "    }\n",
       "\n",
       "    .dataframe tbody tr th {\n",
       "        vertical-align: top;\n",
       "    }\n",
       "\n",
       "    .dataframe thead th {\n",
       "        text-align: right;\n",
       "    }\n",
       "</style>\n",
       "<table border=\"1\" class=\"dataframe\">\n",
       "  <thead>\n",
       "    <tr style=\"text-align: right;\">\n",
       "      <th></th>\n",
       "      <th>title</th>\n",
       "      <th>id</th>\n",
       "      <th>vote_count</th>\n",
       "      <th>vote_average</th>\n",
       "      <th>year</th>\n",
       "      <th>est</th>\n",
       "    </tr>\n",
       "  </thead>\n",
       "  <tbody>\n",
       "    <tr>\n",
       "      <th>8378</th>\n",
       "      <td>Guardians of the Galaxy Vol. 2</td>\n",
       "      <td>283995</td>\n",
       "      <td>20544</td>\n",
       "      <td>7.621</td>\n",
       "      <td>2017</td>\n",
       "      <td>3.740729</td>\n",
       "    </tr>\n",
       "    <tr>\n",
       "      <th>8377</th>\n",
       "      <td>Thor: Ragnarok</td>\n",
       "      <td>284053</td>\n",
       "      <td>19720</td>\n",
       "      <td>7.594</td>\n",
       "      <td>2017</td>\n",
       "      <td>3.659600</td>\n",
       "    </tr>\n",
       "    <tr>\n",
       "      <th>7434</th>\n",
       "      <td>X-Men: First Class</td>\n",
       "      <td>49538</td>\n",
       "      <td>12093</td>\n",
       "      <td>7.297</td>\n",
       "      <td>2011</td>\n",
       "      <td>3.501074</td>\n",
       "    </tr>\n",
       "    <tr>\n",
       "      <th>8372</th>\n",
       "      <td>Ant-Man</td>\n",
       "      <td>102899</td>\n",
       "      <td>18882</td>\n",
       "      <td>7.081</td>\n",
       "      <td>2015</td>\n",
       "      <td>3.488785</td>\n",
       "    </tr>\n",
       "    <tr>\n",
       "      <th>8376</th>\n",
       "      <td>Avengers: Infinity War</td>\n",
       "      <td>299536</td>\n",
       "      <td>28055</td>\n",
       "      <td>8.252</td>\n",
       "      <td>2018</td>\n",
       "      <td>3.433095</td>\n",
       "    </tr>\n",
       "    <tr>\n",
       "      <th>9107</th>\n",
       "      <td>Marvel One-Shot: Agent Carter</td>\n",
       "      <td>211387</td>\n",
       "      <td>690</td>\n",
       "      <td>7.200</td>\n",
       "      <td>2013</td>\n",
       "      <td>3.431697</td>\n",
       "    </tr>\n",
       "    <tr>\n",
       "      <th>8379</th>\n",
       "      <td>Captain America: Civil War</td>\n",
       "      <td>271110</td>\n",
       "      <td>21721</td>\n",
       "      <td>7.442</td>\n",
       "      <td>2016</td>\n",
       "      <td>3.402881</td>\n",
       "    </tr>\n",
       "    <tr>\n",
       "      <th>8096</th>\n",
       "      <td>Captain America: The Winter Soldier</td>\n",
       "      <td>100402</td>\n",
       "      <td>17866</td>\n",
       "      <td>7.670</td>\n",
       "      <td>2014</td>\n",
       "      <td>3.358924</td>\n",
       "    </tr>\n",
       "    <tr>\n",
       "      <th>4317</th>\n",
       "      <td>X2</td>\n",
       "      <td>36658</td>\n",
       "      <td>9521</td>\n",
       "      <td>7.000</td>\n",
       "      <td>2003</td>\n",
       "      <td>3.349765</td>\n",
       "    </tr>\n",
       "    <tr>\n",
       "      <th>8369</th>\n",
       "      <td>Avengers: Age of Ultron</td>\n",
       "      <td>99861</td>\n",
       "      <td>21951</td>\n",
       "      <td>7.273</td>\n",
       "      <td>2015</td>\n",
       "      <td>3.346312</td>\n",
       "    </tr>\n",
       "  </tbody>\n",
       "</table>\n",
       "</div>"
      ],
      "text/plain": [
       "                                    title      id  vote_count  vote_average  \\\n",
       "8378       Guardians of the Galaxy Vol. 2  283995       20544         7.621   \n",
       "8377                       Thor: Ragnarok  284053       19720         7.594   \n",
       "7434                   X-Men: First Class   49538       12093         7.297   \n",
       "8372                              Ant-Man  102899       18882         7.081   \n",
       "8376               Avengers: Infinity War  299536       28055         8.252   \n",
       "9107        Marvel One-Shot: Agent Carter  211387         690         7.200   \n",
       "8379           Captain America: Civil War  271110       21721         7.442   \n",
       "8096  Captain America: The Winter Soldier  100402       17866         7.670   \n",
       "4317                                   X2   36658        9521         7.000   \n",
       "8369              Avengers: Age of Ultron   99861       21951         7.273   \n",
       "\n",
       "      year       est  \n",
       "8378  2017  3.740729  \n",
       "8377  2017  3.659600  \n",
       "7434  2011  3.501074  \n",
       "8372  2015  3.488785  \n",
       "8376  2018  3.433095  \n",
       "9107  2013  3.431697  \n",
       "8379  2016  3.402881  \n",
       "8096  2014  3.358924  \n",
       "4317  2003  3.349765  \n",
       "8369  2015  3.346312  "
      ]
     },
     "execution_count": 81,
     "metadata": {},
     "output_type": "execute_result"
    }
   ],
   "source": [
    "hybrid_recommendations(500, 'Iron Man')"
   ]
  },
  {
   "cell_type": "markdown",
   "metadata": {},
   "source": [
    "It can be seen that for the Hybrid Recommender, it can get different recommendations for different users although the movie is the same. Hence, this recommendations are more personalized and tailored towards particular users."
   ]
  },
  {
   "cell_type": "markdown",
   "metadata": {},
   "source": [
    "## Conclusion\n",
    "\n",
    "In this notebook, 4 different recommendation engines have been built based on different ideas and algorithms. They are as follows:\n",
    "\n",
    "1. **Simple Recommender:** This system used overall TMDB Vote Count and Vote Averages to build Top Movies Charts, in general and for a specific genre. The IMDB Weighted Rating System was used to calculate ratings on which the sorting was finally performed.\n",
    "\n",
    "2. **Content Based Recommender:** This system was built by two content based engines: One that took movie overview and taglines as input. The other which took metadata such as cast, crew, genre and keywords to come up with predictions. They were also deviced a simple filter to give greater preference to movies with more votes and higher ratings.\n",
    "\n",
    "3. **Collaborative Filtering:** The powerful Surprise Library was used to build a Collaborative Filter based on single value decomposition. The RMSE obtained was less than 1 and the engine gave estimated ratings for a given user and movie.\n",
    "\n",
    "4. **Hybrid Engine:** All the ideas from Content and Collaborative Filterting were brought together to build an engine that gave movie suggestions to a particular user based on the estimated ratings that it had internally calculated for that user."
   ]
  },
  {
   "cell_type": "code",
   "execution_count": null,
   "metadata": {},
   "outputs": [],
   "source": []
  },
  {
   "cell_type": "code",
   "execution_count": null,
   "metadata": {},
   "outputs": [],
   "source": []
  }
 ],
 "metadata": {
  "kernelspec": {
   "display_name": "base",
   "language": "python",
   "name": "python3"
  },
  "language_info": {
   "codemirror_mode": {
    "name": "ipython",
    "version": 3
   },
   "file_extension": ".py",
   "mimetype": "text/x-python",
   "name": "python",
   "nbconvert_exporter": "python",
   "pygments_lexer": "ipython3",
   "version": "3.10.9"
  }
 },
 "nbformat": 4,
 "nbformat_minor": 2
}
